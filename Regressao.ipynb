{
 "cells": [
  {
   "cell_type": "markdown",
   "id": "fa7f790b-93e7-4321-9efd-654b28d84216",
   "metadata": {},
   "source": [
    "# Projeto Final - Fundamentos de Machine Learning\n",
    "## Modelos de Regressão "
   ]
  },
  {
   "cell_type": "markdown",
   "id": "f92a90da-a566-47b2-b10a-aacf1d59a4a3",
   "metadata": {},
   "source": [
    "# 0.0. Imports"
   ]
  },
  {
   "cell_type": "code",
   "execution_count": 8,
   "id": "d699ec6a-b28e-4843-ba11-8f1891b52c24",
   "metadata": {
    "execution": {
     "iopub.execute_input": "2024-04-16T23:07:19.128383Z",
     "iopub.status.busy": "2024-04-16T23:07:19.127383Z",
     "iopub.status.idle": "2024-04-16T23:07:19.137385Z",
     "shell.execute_reply": "2024-04-16T23:07:19.136384Z",
     "shell.execute_reply.started": "2024-04-16T23:07:19.128383Z"
    }
   },
   "outputs": [],
   "source": [
    "import pandas as pd\n",
    "import numpy as np\n",
    "from sklearn.tree import DecisionTreeRegressor\n",
    "from sklearn.ensemble import RandomForestRegressor\n",
    "from sklearn.linear_model import LinearRegression, Lasso, Ridge, ElasticNet\n",
    "from sklearn.preprocessing import PolynomialFeatures\n",
    "from sklearn.model_selection import ParameterGrid\n",
    "from sklearn import metrics as mt\n",
    "\n",
    "import warnings\n",
    "warnings.filterwarnings('ignore')"
   ]
  },
  {
   "cell_type": "markdown",
   "id": "1c3c99b5-f253-489f-bfb3-3825f9c742bd",
   "metadata": {},
   "source": [
    "## 0.1. Funções"
   ]
  },
  {
   "cell_type": "code",
   "execution_count": 9,
   "id": "7f572f5e-1d27-41d1-8ab9-9d820341145b",
   "metadata": {
    "execution": {
     "iopub.execute_input": "2024-04-16T23:07:19.140386Z",
     "iopub.status.busy": "2024-04-16T23:07:19.139385Z",
     "iopub.status.idle": "2024-04-16T23:07:19.168391Z",
     "shell.execute_reply": "2024-04-16T23:07:19.167394Z",
     "shell.execute_reply.started": "2024-04-16T23:07:19.140386Z"
    }
   },
   "outputs": [],
   "source": [
    "def get_metrics(y, y_pred):\n",
    "    scores = pd.DataFrame({\n",
    "        'r2': [mt.r2_score(y, y_pred)],\n",
    "        'MSE': [mt.mean_squared_error(y, y_pred)], \n",
    "        'RMSE' : [mt.root_mean_squared_error(y, y_pred)],\n",
    "        'MAE': [mt.mean_absolute_error(y, y_pred)], \n",
    "        'MAPE': [mt.mean_absolute_percentage_error(y, y_pred)]\n",
    "    })\n",
    "    return scores\n",
    "\n",
    "def get_score_table(scores_train, scores_val, scores_test):\n",
    "    score_comp = pd.concat([scores_train, scores_val, scores_test])\n",
    "    score_comp.index = ['train', 'validation', 'test']\n",
    "    return score_comp\n",
    "\n",
    "def search_best_params(x_train, y_train, x_val, y_val, algorithm, parameter_grid):\n",
    "    # DataFrame for storing metrics for each parameter set\n",
    "    best_mae = 5000\n",
    "    best_params = {}\n",
    "    # Iterate over each set of parameters in the grid\n",
    "    for params in parameter_grid:\n",
    "        # Create and fit the model with the current set of parameters\n",
    "        model = algorithm(**params)\n",
    "        model.fit(x_train, y_train.values.ravel())\n",
    "        # Predict using the validation set\n",
    "        y_pred_val = model.predict(x_val)\n",
    "        # Get metrics and convert to DataFrame\n",
    "        current_metrics = get_metrics(y_val, y_pred_val)\n",
    "        current_mae = current_metrics['MAE'].iloc[0]\n",
    "        if current_mae < best_mae:\n",
    "            best_mae = current_mae\n",
    "            best_params = params\n",
    "    \n",
    "    return best_mae, best_params\n",
    "\n",
    "def modeling(x_train, y_train, x_val, y_val, x_test, y_test, algorithm, parameters):\n",
    "    model = algorithm(**parameters).fit(x_train, y_train.values.ravel())\n",
    "    y_pred_train = model.predict(x_train)\n",
    "    y_pred_val = model.predict(x_val)\n",
    "    y_pred_test = model.predict(x_test)\n",
    "\n",
    "    scores_train = get_metrics(y_train, y_pred_train)\n",
    "    scores_val = get_metrics(y_val, y_pred_val)\n",
    "    scores_test = get_metrics(y_test, y_pred_test)\n",
    "    scores = get_score_table(scores_train, scores_val, scores_test)\n",
    "\n",
    "    return scores"
   ]
  },
  {
   "cell_type": "markdown",
   "id": "de8e3a8f-047f-456c-ab8a-3276ce538a87",
   "metadata": {},
   "source": [
    "# 1.0. Loading Data"
   ]
  },
  {
   "cell_type": "code",
   "execution_count": 10,
   "id": "21fbd22c-7324-4e96-b43f-d6573d33d946",
   "metadata": {
    "execution": {
     "iopub.execute_input": "2024-04-16T23:07:19.170393Z",
     "iopub.status.busy": "2024-04-16T23:07:19.169392Z",
     "iopub.status.idle": "2024-04-16T23:07:19.247553Z",
     "shell.execute_reply": "2024-04-16T23:07:19.245174Z",
     "shell.execute_reply.started": "2024-04-16T23:07:19.170393Z"
    }
   },
   "outputs": [],
   "source": [
    "x_train = pd.read_csv('data/regressao/X_training.csv')\n",
    "y_train = pd.read_csv('data/regressao/y_training.csv')\n",
    "\n",
    "x_val = pd.read_csv('data/regressao/X_validation.csv')\n",
    "y_val = pd.read_csv('data/regressao/y_val.csv')\n",
    "\n",
    "x_test = pd.read_csv('data/regressao/X_test.csv')\n",
    "y_test = pd.read_csv('data/regressao/y_test.csv')"
   ]
  },
  {
   "cell_type": "code",
   "execution_count": 11,
   "id": "d92dd4fb-324f-4567-9b81-92b3d1521ca3",
   "metadata": {
    "execution": {
     "iopub.execute_input": "2024-04-16T23:07:19.250584Z",
     "iopub.status.busy": "2024-04-16T23:07:19.250027Z",
     "iopub.status.idle": "2024-04-16T23:07:19.337248Z",
     "shell.execute_reply": "2024-04-16T23:07:19.336072Z",
     "shell.execute_reply.started": "2024-04-16T23:07:19.250584Z"
    }
   },
   "outputs": [
    {
     "data": {
      "text/html": [
       "<div>\n",
       "<style scoped>\n",
       "    .dataframe tbody tr th:only-of-type {\n",
       "        vertical-align: middle;\n",
       "    }\n",
       "\n",
       "    .dataframe tbody tr th {\n",
       "        vertical-align: top;\n",
       "    }\n",
       "\n",
       "    .dataframe thead th {\n",
       "        text-align: right;\n",
       "    }\n",
       "</style>\n",
       "<table border=\"1\" class=\"dataframe\">\n",
       "  <thead>\n",
       "    <tr style=\"text-align: right;\">\n",
       "      <th></th>\n",
       "      <th>song_duration_ms</th>\n",
       "      <th>acousticness</th>\n",
       "      <th>danceability</th>\n",
       "      <th>energy</th>\n",
       "      <th>instrumentalness</th>\n",
       "      <th>key</th>\n",
       "      <th>liveness</th>\n",
       "      <th>loudness</th>\n",
       "      <th>audio_mode</th>\n",
       "      <th>speechiness</th>\n",
       "      <th>tempo</th>\n",
       "      <th>time_signature</th>\n",
       "      <th>audio_valence</th>\n",
       "    </tr>\n",
       "  </thead>\n",
       "  <tbody>\n",
       "    <tr>\n",
       "      <th>0</th>\n",
       "      <td>0.205673</td>\n",
       "      <td>0.0921</td>\n",
       "      <td>0.720</td>\n",
       "      <td>0.802</td>\n",
       "      <td>0.000000</td>\n",
       "      <td>0.090909</td>\n",
       "      <td>0.694</td>\n",
       "      <td>0.431778</td>\n",
       "      <td>1</td>\n",
       "      <td>0.0582</td>\n",
       "      <td>0.103876</td>\n",
       "      <td>0.8</td>\n",
       "      <td>0.723</td>\n",
       "    </tr>\n",
       "    <tr>\n",
       "      <th>1</th>\n",
       "      <td>-0.240409</td>\n",
       "      <td>0.7370</td>\n",
       "      <td>0.483</td>\n",
       "      <td>0.412</td>\n",
       "      <td>0.000000</td>\n",
       "      <td>0.636364</td>\n",
       "      <td>0.116</td>\n",
       "      <td>-0.262732</td>\n",
       "      <td>1</td>\n",
       "      <td>0.0402</td>\n",
       "      <td>1.711532</td>\n",
       "      <td>0.6</td>\n",
       "      <td>0.247</td>\n",
       "    </tr>\n",
       "    <tr>\n",
       "      <th>2</th>\n",
       "      <td>-0.125770</td>\n",
       "      <td>0.2740</td>\n",
       "      <td>0.671</td>\n",
       "      <td>0.565</td>\n",
       "      <td>0.000065</td>\n",
       "      <td>1.000000</td>\n",
       "      <td>0.370</td>\n",
       "      <td>0.013612</td>\n",
       "      <td>0</td>\n",
       "      <td>0.1600</td>\n",
       "      <td>1.009176</td>\n",
       "      <td>0.8</td>\n",
       "      <td>0.561</td>\n",
       "    </tr>\n",
       "  </tbody>\n",
       "</table>\n",
       "</div>"
      ],
      "text/plain": [
       "   song_duration_ms  acousticness  danceability  energy  instrumentalness  \\\n",
       "0          0.205673        0.0921         0.720   0.802          0.000000   \n",
       "1         -0.240409        0.7370         0.483   0.412          0.000000   \n",
       "2         -0.125770        0.2740         0.671   0.565          0.000065   \n",
       "\n",
       "        key  liveness  loudness  audio_mode  speechiness     tempo  \\\n",
       "0  0.090909     0.694  0.431778           1       0.0582  0.103876   \n",
       "1  0.636364     0.116 -0.262732           1       0.0402  1.711532   \n",
       "2  1.000000     0.370  0.013612           0       0.1600  1.009176   \n",
       "\n",
       "   time_signature  audio_valence  \n",
       "0             0.8          0.723  \n",
       "1             0.6          0.247  \n",
       "2             0.8          0.561  "
      ]
     },
     "metadata": {},
     "output_type": "display_data"
    },
    {
     "data": {
      "text/html": [
       "<div>\n",
       "<style scoped>\n",
       "    .dataframe tbody tr th:only-of-type {\n",
       "        vertical-align: middle;\n",
       "    }\n",
       "\n",
       "    .dataframe tbody tr th {\n",
       "        vertical-align: top;\n",
       "    }\n",
       "\n",
       "    .dataframe thead th {\n",
       "        text-align: right;\n",
       "    }\n",
       "</style>\n",
       "<table border=\"1\" class=\"dataframe\">\n",
       "  <thead>\n",
       "    <tr style=\"text-align: right;\">\n",
       "      <th></th>\n",
       "      <th>song_popularity</th>\n",
       "    </tr>\n",
       "  </thead>\n",
       "  <tbody>\n",
       "    <tr>\n",
       "      <th>0</th>\n",
       "      <td>79.0</td>\n",
       "    </tr>\n",
       "    <tr>\n",
       "      <th>1</th>\n",
       "      <td>86.0</td>\n",
       "    </tr>\n",
       "    <tr>\n",
       "      <th>2</th>\n",
       "      <td>63.0</td>\n",
       "    </tr>\n",
       "  </tbody>\n",
       "</table>\n",
       "</div>"
      ],
      "text/plain": [
       "   song_popularity\n",
       "0             79.0\n",
       "1             86.0\n",
       "2             63.0"
      ]
     },
     "metadata": {},
     "output_type": "display_data"
    },
    {
     "data": {
      "text/html": [
       "<div>\n",
       "<style scoped>\n",
       "    .dataframe tbody tr th:only-of-type {\n",
       "        vertical-align: middle;\n",
       "    }\n",
       "\n",
       "    .dataframe tbody tr th {\n",
       "        vertical-align: top;\n",
       "    }\n",
       "\n",
       "    .dataframe thead th {\n",
       "        text-align: right;\n",
       "    }\n",
       "</style>\n",
       "<table border=\"1\" class=\"dataframe\">\n",
       "  <thead>\n",
       "    <tr style=\"text-align: right;\">\n",
       "      <th></th>\n",
       "      <th>song_duration_ms</th>\n",
       "      <th>acousticness</th>\n",
       "      <th>danceability</th>\n",
       "      <th>energy</th>\n",
       "      <th>instrumentalness</th>\n",
       "      <th>key</th>\n",
       "      <th>liveness</th>\n",
       "      <th>loudness</th>\n",
       "      <th>audio_mode</th>\n",
       "      <th>speechiness</th>\n",
       "      <th>tempo</th>\n",
       "      <th>time_signature</th>\n",
       "      <th>audio_valence</th>\n",
       "    </tr>\n",
       "  </thead>\n",
       "  <tbody>\n",
       "    <tr>\n",
       "      <th>0</th>\n",
       "      <td>-1.662539</td>\n",
       "      <td>0.073</td>\n",
       "      <td>0.754</td>\n",
       "      <td>0.342</td>\n",
       "      <td>0.000000</td>\n",
       "      <td>0.909091</td>\n",
       "      <td>0.1930</td>\n",
       "      <td>-0.319043</td>\n",
       "      <td>0</td>\n",
       "      <td>0.0991</td>\n",
       "      <td>0.276006</td>\n",
       "      <td>0.8</td>\n",
       "      <td>0.423</td>\n",
       "    </tr>\n",
       "    <tr>\n",
       "      <th>1</th>\n",
       "      <td>-0.054995</td>\n",
       "      <td>0.191</td>\n",
       "      <td>0.687</td>\n",
       "      <td>0.792</td>\n",
       "      <td>0.000000</td>\n",
       "      <td>0.454545</td>\n",
       "      <td>0.1670</td>\n",
       "      <td>1.226398</td>\n",
       "      <td>1</td>\n",
       "      <td>0.0452</td>\n",
       "      <td>-0.733694</td>\n",
       "      <td>0.8</td>\n",
       "      <td>0.671</td>\n",
       "    </tr>\n",
       "    <tr>\n",
       "      <th>2</th>\n",
       "      <td>0.564739</td>\n",
       "      <td>0.318</td>\n",
       "      <td>0.630</td>\n",
       "      <td>0.478</td>\n",
       "      <td>0.000065</td>\n",
       "      <td>1.000000</td>\n",
       "      <td>0.0942</td>\n",
       "      <td>-0.817506</td>\n",
       "      <td>1</td>\n",
       "      <td>0.0275</td>\n",
       "      <td>-0.995967</td>\n",
       "      <td>0.8</td>\n",
       "      <td>0.279</td>\n",
       "    </tr>\n",
       "  </tbody>\n",
       "</table>\n",
       "</div>"
      ],
      "text/plain": [
       "   song_duration_ms  acousticness  danceability  energy  instrumentalness  \\\n",
       "0         -1.662539         0.073         0.754   0.342          0.000000   \n",
       "1         -0.054995         0.191         0.687   0.792          0.000000   \n",
       "2          0.564739         0.318         0.630   0.478          0.000065   \n",
       "\n",
       "        key  liveness  loudness  audio_mode  speechiness     tempo  \\\n",
       "0  0.909091    0.1930 -0.319043           0       0.0991  0.276006   \n",
       "1  0.454545    0.1670  1.226398           1       0.0452 -0.733694   \n",
       "2  1.000000    0.0942 -0.817506           1       0.0275 -0.995967   \n",
       "\n",
       "   time_signature  audio_valence  \n",
       "0             0.8          0.423  \n",
       "1             0.8          0.671  \n",
       "2             0.8          0.279  "
      ]
     },
     "metadata": {},
     "output_type": "display_data"
    },
    {
     "data": {
      "text/html": [
       "<div>\n",
       "<style scoped>\n",
       "    .dataframe tbody tr th:only-of-type {\n",
       "        vertical-align: middle;\n",
       "    }\n",
       "\n",
       "    .dataframe tbody tr th {\n",
       "        vertical-align: top;\n",
       "    }\n",
       "\n",
       "    .dataframe thead th {\n",
       "        text-align: right;\n",
       "    }\n",
       "</style>\n",
       "<table border=\"1\" class=\"dataframe\">\n",
       "  <thead>\n",
       "    <tr style=\"text-align: right;\">\n",
       "      <th></th>\n",
       "      <th>song_popularity</th>\n",
       "    </tr>\n",
       "  </thead>\n",
       "  <tbody>\n",
       "    <tr>\n",
       "      <th>0</th>\n",
       "      <td>87.0</td>\n",
       "    </tr>\n",
       "    <tr>\n",
       "      <th>1</th>\n",
       "      <td>100.0</td>\n",
       "    </tr>\n",
       "    <tr>\n",
       "      <th>2</th>\n",
       "      <td>37.0</td>\n",
       "    </tr>\n",
       "  </tbody>\n",
       "</table>\n",
       "</div>"
      ],
      "text/plain": [
       "   song_popularity\n",
       "0             87.0\n",
       "1            100.0\n",
       "2             37.0"
      ]
     },
     "metadata": {},
     "output_type": "display_data"
    },
    {
     "data": {
      "text/html": [
       "<div>\n",
       "<style scoped>\n",
       "    .dataframe tbody tr th:only-of-type {\n",
       "        vertical-align: middle;\n",
       "    }\n",
       "\n",
       "    .dataframe tbody tr th {\n",
       "        vertical-align: top;\n",
       "    }\n",
       "\n",
       "    .dataframe thead th {\n",
       "        text-align: right;\n",
       "    }\n",
       "</style>\n",
       "<table border=\"1\" class=\"dataframe\">\n",
       "  <thead>\n",
       "    <tr style=\"text-align: right;\">\n",
       "      <th></th>\n",
       "      <th>song_duration_ms</th>\n",
       "      <th>acousticness</th>\n",
       "      <th>danceability</th>\n",
       "      <th>energy</th>\n",
       "      <th>instrumentalness</th>\n",
       "      <th>key</th>\n",
       "      <th>liveness</th>\n",
       "      <th>loudness</th>\n",
       "      <th>audio_mode</th>\n",
       "      <th>speechiness</th>\n",
       "      <th>tempo</th>\n",
       "      <th>time_signature</th>\n",
       "      <th>audio_valence</th>\n",
       "    </tr>\n",
       "  </thead>\n",
       "  <tbody>\n",
       "    <tr>\n",
       "      <th>0</th>\n",
       "      <td>0.143252</td>\n",
       "      <td>0.025900</td>\n",
       "      <td>0.616</td>\n",
       "      <td>0.933</td>\n",
       "      <td>0.0000</td>\n",
       "      <td>0.000000</td>\n",
       "      <td>0.359</td>\n",
       "      <td>0.962307</td>\n",
       "      <td>0</td>\n",
       "      <td>0.0513</td>\n",
       "      <td>0.309853</td>\n",
       "      <td>0.8</td>\n",
       "      <td>0.806</td>\n",
       "    </tr>\n",
       "    <tr>\n",
       "      <th>1</th>\n",
       "      <td>0.363603</td>\n",
       "      <td>0.000188</td>\n",
       "      <td>0.490</td>\n",
       "      <td>0.972</td>\n",
       "      <td>0.0299</td>\n",
       "      <td>0.909091</td>\n",
       "      <td>0.368</td>\n",
       "      <td>0.765216</td>\n",
       "      <td>0</td>\n",
       "      <td>0.1110</td>\n",
       "      <td>-0.908089</td>\n",
       "      <td>0.8</td>\n",
       "      <td>0.376</td>\n",
       "    </tr>\n",
       "    <tr>\n",
       "      <th>2</th>\n",
       "      <td>-1.409083</td>\n",
       "      <td>0.694000</td>\n",
       "      <td>0.876</td>\n",
       "      <td>0.167</td>\n",
       "      <td>0.9120</td>\n",
       "      <td>1.000000</td>\n",
       "      <td>0.369</td>\n",
       "      <td>-1.733352</td>\n",
       "      <td>1</td>\n",
       "      <td>0.0885</td>\n",
       "      <td>-0.975052</td>\n",
       "      <td>0.8</td>\n",
       "      <td>0.845</td>\n",
       "    </tr>\n",
       "  </tbody>\n",
       "</table>\n",
       "</div>"
      ],
      "text/plain": [
       "   song_duration_ms  acousticness  danceability  energy  instrumentalness  \\\n",
       "0          0.143252      0.025900         0.616   0.933            0.0000   \n",
       "1          0.363603      0.000188         0.490   0.972            0.0299   \n",
       "2         -1.409083      0.694000         0.876   0.167            0.9120   \n",
       "\n",
       "        key  liveness  loudness  audio_mode  speechiness     tempo  \\\n",
       "0  0.000000     0.359  0.962307           0       0.0513  0.309853   \n",
       "1  0.909091     0.368  0.765216           0       0.1110 -0.908089   \n",
       "2  1.000000     0.369 -1.733352           1       0.0885 -0.975052   \n",
       "\n",
       "   time_signature  audio_valence  \n",
       "0             0.8          0.806  \n",
       "1             0.8          0.376  \n",
       "2             0.8          0.845  "
      ]
     },
     "metadata": {},
     "output_type": "display_data"
    },
    {
     "data": {
      "text/html": [
       "<div>\n",
       "<style scoped>\n",
       "    .dataframe tbody tr th:only-of-type {\n",
       "        vertical-align: middle;\n",
       "    }\n",
       "\n",
       "    .dataframe tbody tr th {\n",
       "        vertical-align: top;\n",
       "    }\n",
       "\n",
       "    .dataframe thead th {\n",
       "        text-align: right;\n",
       "    }\n",
       "</style>\n",
       "<table border=\"1\" class=\"dataframe\">\n",
       "  <thead>\n",
       "    <tr style=\"text-align: right;\">\n",
       "      <th></th>\n",
       "      <th>song_popularity</th>\n",
       "    </tr>\n",
       "  </thead>\n",
       "  <tbody>\n",
       "    <tr>\n",
       "      <th>0</th>\n",
       "      <td>60.0</td>\n",
       "    </tr>\n",
       "    <tr>\n",
       "      <th>1</th>\n",
       "      <td>48.0</td>\n",
       "    </tr>\n",
       "    <tr>\n",
       "      <th>2</th>\n",
       "      <td>43.0</td>\n",
       "    </tr>\n",
       "  </tbody>\n",
       "</table>\n",
       "</div>"
      ],
      "text/plain": [
       "   song_popularity\n",
       "0             60.0\n",
       "1             48.0\n",
       "2             43.0"
      ]
     },
     "metadata": {},
     "output_type": "display_data"
    }
   ],
   "source": [
    "display(x_train.head(3))\n",
    "display(y_train.head(3))\n",
    "display(x_test.head(3))\n",
    "display(y_test.head(3))\n",
    "display(x_val.head(3))\n",
    "display(y_val.head(3))"
   ]
  },
  {
   "cell_type": "markdown",
   "id": "47a2cda8-b737-40ab-8b03-5341dbf9c937",
   "metadata": {},
   "source": [
    "# 2.0. Ensaios"
   ]
  },
  {
   "cell_type": "markdown",
   "id": "1f5f758a-2f5d-4e92-bbfb-ab1327948b13",
   "metadata": {},
   "source": [
    "## 2.1. Linear Regression"
   ]
  },
  {
   "cell_type": "code",
   "execution_count": 12,
   "id": "52ee72a4-5400-4a28-830d-9b7f220d73a1",
   "metadata": {
    "execution": {
     "iopub.execute_input": "2024-04-16T23:07:19.342010Z",
     "iopub.status.busy": "2024-04-16T23:07:19.341490Z",
     "iopub.status.idle": "2024-04-16T23:07:19.399454Z",
     "shell.execute_reply": "2024-04-16T23:07:19.398454Z",
     "shell.execute_reply.started": "2024-04-16T23:07:19.341490Z"
    }
   },
   "outputs": [
    {
     "data": {
      "text/html": [
       "<div>\n",
       "<style scoped>\n",
       "    .dataframe tbody tr th:only-of-type {\n",
       "        vertical-align: middle;\n",
       "    }\n",
       "\n",
       "    .dataframe tbody tr th {\n",
       "        vertical-align: top;\n",
       "    }\n",
       "\n",
       "    .dataframe thead th {\n",
       "        text-align: right;\n",
       "    }\n",
       "</style>\n",
       "<table border=\"1\" class=\"dataframe\">\n",
       "  <thead>\n",
       "    <tr style=\"text-align: right;\">\n",
       "      <th></th>\n",
       "      <th>r2</th>\n",
       "      <th>MSE</th>\n",
       "      <th>RMSE</th>\n",
       "      <th>MAE</th>\n",
       "      <th>MAPE</th>\n",
       "      <th>model_name</th>\n",
       "    </tr>\n",
       "  </thead>\n",
       "  <tbody>\n",
       "    <tr>\n",
       "      <th>train</th>\n",
       "      <td>0.046058</td>\n",
       "      <td>455.996112</td>\n",
       "      <td>21.354065</td>\n",
       "      <td>16.998249</td>\n",
       "      <td>8.653186</td>\n",
       "      <td>Linear Regression</td>\n",
       "    </tr>\n",
       "    <tr>\n",
       "      <th>validation</th>\n",
       "      <td>0.039925</td>\n",
       "      <td>458.447042</td>\n",
       "      <td>21.411376</td>\n",
       "      <td>17.039754</td>\n",
       "      <td>8.682542</td>\n",
       "      <td>Linear Regression</td>\n",
       "    </tr>\n",
       "    <tr>\n",
       "      <th>test</th>\n",
       "      <td>0.052317</td>\n",
       "      <td>461.427719</td>\n",
       "      <td>21.480869</td>\n",
       "      <td>17.129965</td>\n",
       "      <td>8.521859</td>\n",
       "      <td>Linear Regression</td>\n",
       "    </tr>\n",
       "  </tbody>\n",
       "</table>\n",
       "</div>"
      ],
      "text/plain": [
       "                  r2         MSE       RMSE        MAE      MAPE  \\\n",
       "train       0.046058  455.996112  21.354065  16.998249  8.653186   \n",
       "validation  0.039925  458.447042  21.411376  17.039754  8.682542   \n",
       "test        0.052317  461.427719  21.480869  17.129965  8.521859   \n",
       "\n",
       "                   model_name  \n",
       "train       Linear Regression  \n",
       "validation  Linear Regression  \n",
       "test        Linear Regression  "
      ]
     },
     "execution_count": 12,
     "metadata": {},
     "output_type": "execute_result"
    }
   ],
   "source": [
    "lr_scores = modeling(x_train, y_train, x_val, y_val, x_test, y_test, LinearRegression, {})\n",
    "lr_scores['model_name'] = 'Linear Regression'\n",
    "lr_scores"
   ]
  },
  {
   "cell_type": "markdown",
   "id": "7802109d-a7fa-4ca2-b04c-ec87b57b4dc4",
   "metadata": {},
   "source": [
    "## 2.2. Decision Tree Regression"
   ]
  },
  {
   "cell_type": "code",
   "execution_count": 13,
   "id": "2670cc68-b814-4d66-a32f-0ac4b4560d95",
   "metadata": {
    "execution": {
     "iopub.execute_input": "2024-04-16T23:07:19.401454Z",
     "iopub.status.busy": "2024-04-16T23:07:19.400454Z",
     "iopub.status.idle": "2024-04-16T23:07:26.533704Z",
     "shell.execute_reply": "2024-04-16T23:07:26.532703Z",
     "shell.execute_reply.started": "2024-04-16T23:07:19.401454Z"
    }
   },
   "outputs": [],
   "source": [
    "dt_param = ParameterGrid({\n",
    "    'max_depth' : np.arange(1,50,1)\n",
    "})\n",
    "best_score_dt = search_best_params(x_train, y_train, x_val, y_val, DecisionTreeRegressor, dt_param)"
   ]
  },
  {
   "cell_type": "code",
   "execution_count": 14,
   "id": "50e1dd5d-a94d-48c9-a971-88f7f80e709e",
   "metadata": {
    "execution": {
     "iopub.execute_input": "2024-04-16T23:07:26.534705Z",
     "iopub.status.busy": "2024-04-16T23:07:26.534705Z",
     "iopub.status.idle": "2024-04-16T23:07:26.549708Z",
     "shell.execute_reply": "2024-04-16T23:07:26.548709Z",
     "shell.execute_reply.started": "2024-04-16T23:07:26.534705Z"
    }
   },
   "outputs": [
    {
     "name": "stdout",
     "output_type": "stream",
     "text": [
      "Melhor MAE é: 16.72056151506039 com melhor max_depth = 7\n"
     ]
    }
   ],
   "source": [
    "best_mae_tree = best_score_dt[0]\n",
    "best_depth_tree = list(best_score_dt[1].values())[0]\n",
    "print('Melhor MAE é: {} com melhor max_depth = {}'.format(best_mae_tree, best_depth_tree))"
   ]
  },
  {
   "cell_type": "code",
   "execution_count": 15,
   "id": "47cd2854-fc09-45e2-bd78-06ef094e2f1b",
   "metadata": {
    "execution": {
     "iopub.execute_input": "2024-04-16T23:07:26.550709Z",
     "iopub.status.busy": "2024-04-16T23:07:26.550709Z",
     "iopub.status.idle": "2024-04-16T23:07:26.660559Z",
     "shell.execute_reply": "2024-04-16T23:07:26.660559Z",
     "shell.execute_reply.started": "2024-04-16T23:07:26.550709Z"
    }
   },
   "outputs": [
    {
     "data": {
      "text/html": [
       "<div>\n",
       "<style scoped>\n",
       "    .dataframe tbody tr th:only-of-type {\n",
       "        vertical-align: middle;\n",
       "    }\n",
       "\n",
       "    .dataframe tbody tr th {\n",
       "        vertical-align: top;\n",
       "    }\n",
       "\n",
       "    .dataframe thead th {\n",
       "        text-align: right;\n",
       "    }\n",
       "</style>\n",
       "<table border=\"1\" class=\"dataframe\">\n",
       "  <thead>\n",
       "    <tr style=\"text-align: right;\">\n",
       "      <th></th>\n",
       "      <th>r2</th>\n",
       "      <th>MSE</th>\n",
       "      <th>RMSE</th>\n",
       "      <th>MAE</th>\n",
       "      <th>MAPE</th>\n",
       "      <th>model_name</th>\n",
       "    </tr>\n",
       "  </thead>\n",
       "  <tbody>\n",
       "    <tr>\n",
       "      <th>train</th>\n",
       "      <td>0.191565</td>\n",
       "      <td>386.442081</td>\n",
       "      <td>19.658130</td>\n",
       "      <td>15.505405</td>\n",
       "      <td>6.535123</td>\n",
       "      <td>Decision Tree</td>\n",
       "    </tr>\n",
       "    <tr>\n",
       "      <th>validation</th>\n",
       "      <td>0.058818</td>\n",
       "      <td>449.425251</td>\n",
       "      <td>21.199652</td>\n",
       "      <td>16.724101</td>\n",
       "      <td>7.997339</td>\n",
       "      <td>Decision Tree</td>\n",
       "    </tr>\n",
       "    <tr>\n",
       "      <th>test</th>\n",
       "      <td>0.077381</td>\n",
       "      <td>449.224004</td>\n",
       "      <td>21.194905</td>\n",
       "      <td>16.856217</td>\n",
       "      <td>7.453107</td>\n",
       "      <td>Decision Tree</td>\n",
       "    </tr>\n",
       "  </tbody>\n",
       "</table>\n",
       "</div>"
      ],
      "text/plain": [
       "                  r2         MSE       RMSE        MAE      MAPE  \\\n",
       "train       0.191565  386.442081  19.658130  15.505405  6.535123   \n",
       "validation  0.058818  449.425251  21.199652  16.724101  7.997339   \n",
       "test        0.077381  449.224004  21.194905  16.856217  7.453107   \n",
       "\n",
       "               model_name  \n",
       "train       Decision Tree  \n",
       "validation  Decision Tree  \n",
       "test        Decision Tree  "
      ]
     },
     "execution_count": 15,
     "metadata": {},
     "output_type": "execute_result"
    }
   ],
   "source": [
    "best_params_dt = {'max_depth' : best_depth_tree}\n",
    "dt_scores = modeling(x_train, y_train, x_val, y_val, x_test, y_test, DecisionTreeRegressor, best_params_dt)\n",
    "dt_scores['model_name'] = 'Decision Tree'\n",
    "dt_scores"
   ]
  },
  {
   "cell_type": "markdown",
   "id": "24b1b458-3c4d-455c-abf4-539ff839d1ab",
   "metadata": {},
   "source": [
    "## 2.3. Random Forest Regressor"
   ]
  },
  {
   "cell_type": "code",
   "execution_count": 16,
   "id": "d4dac1cd-301b-4f14-b86e-f8d0fe698049",
   "metadata": {
    "execution": {
     "iopub.execute_input": "2024-04-16T23:07:26.662563Z",
     "iopub.status.busy": "2024-04-16T23:07:26.661561Z",
     "iopub.status.idle": "2024-04-16T23:07:36.848703Z",
     "shell.execute_reply": "2024-04-16T23:07:36.847671Z",
     "shell.execute_reply.started": "2024-04-16T23:07:26.662563Z"
    }
   },
   "outputs": [
    {
     "data": {
      "text/plain": [
       "(13.995592372236672, {'max_depth': 19, 'n_estimators': 10})"
      ]
     },
     "execution_count": 16,
     "metadata": {},
     "output_type": "execute_result"
    }
   ],
   "source": [
    "rf_param = ParameterGrid({\n",
    "    'n_estimators' : [1,5,10],\n",
    "    'max_depth' : np.arange(1,20,2)\n",
    "})\n",
    "best_score_rf = search_best_params(x_train, y_train, x_val, y_val, RandomForestRegressor, rf_param)\n",
    "best_score_rf"
   ]
  },
  {
   "cell_type": "code",
   "execution_count": 17,
   "id": "b89362ef-f347-4303-9c95-382b675a988b",
   "metadata": {
    "execution": {
     "iopub.execute_input": "2024-04-16T23:07:36.850706Z",
     "iopub.status.busy": "2024-04-16T23:07:36.849706Z",
     "iopub.status.idle": "2024-04-16T23:07:36.863709Z",
     "shell.execute_reply": "2024-04-16T23:07:36.862711Z",
     "shell.execute_reply.started": "2024-04-16T23:07:36.850706Z"
    }
   },
   "outputs": [
    {
     "name": "stdout",
     "output_type": "stream",
     "text": [
      "Melhor acurácia é: 13.995592372236672 com melhor max_depth = 19 e melhor estimador = 10\n"
     ]
    }
   ],
   "source": [
    "best_accuracy_rf = best_score_rf[0]\n",
    "best_depth_rf = list(best_score_rf[1].values())[0]\n",
    "best_estimators_rf = list(best_score_rf[1].values())[1]\n",
    "print('Melhor acurácia é: {} com melhor max_depth = {} e melhor estimador = {}'.format(best_accuracy_rf, best_depth_rf, best_estimators_rf))"
   ]
  },
  {
   "cell_type": "code",
   "execution_count": 18,
   "id": "4c9887e9-11f4-4b01-ab08-3f7de0d3fdd6",
   "metadata": {
    "execution": {
     "iopub.execute_input": "2024-04-16T23:07:36.865710Z",
     "iopub.status.busy": "2024-04-16T23:07:36.865710Z",
     "iopub.status.idle": "2024-04-16T23:07:38.022973Z",
     "shell.execute_reply": "2024-04-16T23:07:38.021972Z",
     "shell.execute_reply.started": "2024-04-16T23:07:36.865710Z"
    }
   },
   "outputs": [
    {
     "data": {
      "text/html": [
       "<div>\n",
       "<style scoped>\n",
       "    .dataframe tbody tr th:only-of-type {\n",
       "        vertical-align: middle;\n",
       "    }\n",
       "\n",
       "    .dataframe tbody tr th {\n",
       "        vertical-align: top;\n",
       "    }\n",
       "\n",
       "    .dataframe thead th {\n",
       "        text-align: right;\n",
       "    }\n",
       "</style>\n",
       "<table border=\"1\" class=\"dataframe\">\n",
       "  <thead>\n",
       "    <tr style=\"text-align: right;\">\n",
       "      <th></th>\n",
       "      <th>r2</th>\n",
       "      <th>MSE</th>\n",
       "      <th>RMSE</th>\n",
       "      <th>MAE</th>\n",
       "      <th>MAPE</th>\n",
       "      <th>model_name</th>\n",
       "    </tr>\n",
       "  </thead>\n",
       "  <tbody>\n",
       "    <tr>\n",
       "      <th>train</th>\n",
       "      <td>0.844462</td>\n",
       "      <td>74.349328</td>\n",
       "      <td>8.622606</td>\n",
       "      <td>6.159131</td>\n",
       "      <td>2.686078</td>\n",
       "      <td>Random Forest</td>\n",
       "    </tr>\n",
       "    <tr>\n",
       "      <th>validation</th>\n",
       "      <td>0.247422</td>\n",
       "      <td>359.364904</td>\n",
       "      <td>18.956922</td>\n",
       "      <td>14.030857</td>\n",
       "      <td>7.210582</td>\n",
       "      <td>Random Forest</td>\n",
       "    </tr>\n",
       "    <tr>\n",
       "      <th>test</th>\n",
       "      <td>0.286721</td>\n",
       "      <td>347.296028</td>\n",
       "      <td>18.635880</td>\n",
       "      <td>13.877213</td>\n",
       "      <td>6.530233</td>\n",
       "      <td>Random Forest</td>\n",
       "    </tr>\n",
       "  </tbody>\n",
       "</table>\n",
       "</div>"
      ],
      "text/plain": [
       "                  r2         MSE       RMSE        MAE      MAPE  \\\n",
       "train       0.844462   74.349328   8.622606   6.159131  2.686078   \n",
       "validation  0.247422  359.364904  18.956922  14.030857  7.210582   \n",
       "test        0.286721  347.296028  18.635880  13.877213  6.530233   \n",
       "\n",
       "               model_name  \n",
       "train       Random Forest  \n",
       "validation  Random Forest  \n",
       "test        Random Forest  "
      ]
     },
     "execution_count": 18,
     "metadata": {},
     "output_type": "execute_result"
    }
   ],
   "source": [
    "best_params_rf = {'max_depth' : best_depth_rf,\n",
    "                  'n_estimators' : best_estimators_rf}\n",
    "rf_scores = modeling(x_train, y_train, x_val, y_val, x_test, y_test, RandomForestRegressor, best_params_rf)\n",
    "rf_scores['model_name'] = 'Random Forest'\n",
    "rf_scores"
   ]
  },
  {
   "cell_type": "markdown",
   "id": "07427552-8d13-40ec-b614-fe1a77bc6c7d",
   "metadata": {},
   "source": [
    "## 2.4. Polynomial Regression"
   ]
  },
  {
   "cell_type": "code",
   "execution_count": 19,
   "id": "d8f7e834-a740-4d64-95d4-816d0c627655",
   "metadata": {
    "execution": {
     "iopub.execute_input": "2024-04-16T23:07:38.024974Z",
     "iopub.status.busy": "2024-04-16T23:07:38.023973Z",
     "iopub.status.idle": "2024-04-16T23:07:44.915153Z",
     "shell.execute_reply": "2024-04-16T23:07:44.914153Z",
     "shell.execute_reply.started": "2024-04-16T23:07:38.024974Z"
    }
   },
   "outputs": [
    {
     "name": "stdout",
     "output_type": "stream",
     "text": [
      "Menor MAE:  16.749939090484027\n",
      "Melhor degree:  2\n"
     ]
    }
   ],
   "source": [
    "best_degree = 0\n",
    "best_score = 5000\n",
    "degrees = range(2,5,1)\n",
    "for degree in degrees:\n",
    "    poly = PolynomialFeatures(degree=degree, include_bias=False)\n",
    "    x_poly_train = poly.fit_transform(x_train)\n",
    "    x_poly_val = poly.fit_transform(x_val)\n",
    "    model = LinearRegression().fit(x_poly_train, y_train)\n",
    "    y_pred_val = model.predict(x_poly_val)\n",
    "    scores = get_metrics(y_val, y_pred_val)\n",
    "    current_mae = scores['MAE'].iloc[0]\n",
    "    if current_mae < best_score:\n",
    "        best_score = current_mae\n",
    "        best_degree = degree\n",
    "print('Menor MAE: ',best_score)\n",
    "print('Melhor degree: ',best_degree)"
   ]
  },
  {
   "cell_type": "code",
   "execution_count": 20,
   "id": "f7f45a33-295c-4408-819c-445e5d249fba",
   "metadata": {
    "execution": {
     "iopub.execute_input": "2024-04-16T23:07:44.916154Z",
     "iopub.status.busy": "2024-04-16T23:07:44.916154Z",
     "iopub.status.idle": "2024-04-16T23:07:45.074782Z",
     "shell.execute_reply": "2024-04-16T23:07:45.073781Z",
     "shell.execute_reply.started": "2024-04-16T23:07:44.916154Z"
    }
   },
   "outputs": [
    {
     "data": {
      "text/html": [
       "<div>\n",
       "<style scoped>\n",
       "    .dataframe tbody tr th:only-of-type {\n",
       "        vertical-align: middle;\n",
       "    }\n",
       "\n",
       "    .dataframe tbody tr th {\n",
       "        vertical-align: top;\n",
       "    }\n",
       "\n",
       "    .dataframe thead th {\n",
       "        text-align: right;\n",
       "    }\n",
       "</style>\n",
       "<table border=\"1\" class=\"dataframe\">\n",
       "  <thead>\n",
       "    <tr style=\"text-align: right;\">\n",
       "      <th></th>\n",
       "      <th>r2</th>\n",
       "      <th>MSE</th>\n",
       "      <th>RMSE</th>\n",
       "      <th>MAE</th>\n",
       "      <th>MAPE</th>\n",
       "      <th>model_name</th>\n",
       "    </tr>\n",
       "  </thead>\n",
       "  <tbody>\n",
       "    <tr>\n",
       "      <th>train</th>\n",
       "      <td>0.094195</td>\n",
       "      <td>432.986210</td>\n",
       "      <td>20.808321</td>\n",
       "      <td>16.458032</td>\n",
       "      <td>8.350540</td>\n",
       "      <td>Polynomial Regression</td>\n",
       "    </tr>\n",
       "    <tr>\n",
       "      <th>validation</th>\n",
       "      <td>0.066477</td>\n",
       "      <td>445.768223</td>\n",
       "      <td>21.113224</td>\n",
       "      <td>16.749939</td>\n",
       "      <td>8.547931</td>\n",
       "      <td>Polynomial Regression</td>\n",
       "    </tr>\n",
       "    <tr>\n",
       "      <th>test</th>\n",
       "      <td>0.090079</td>\n",
       "      <td>443.041256</td>\n",
       "      <td>21.048545</td>\n",
       "      <td>16.720535</td>\n",
       "      <td>8.242464</td>\n",
       "      <td>Polynomial Regression</td>\n",
       "    </tr>\n",
       "  </tbody>\n",
       "</table>\n",
       "</div>"
      ],
      "text/plain": [
       "                  r2         MSE       RMSE        MAE      MAPE  \\\n",
       "train       0.094195  432.986210  20.808321  16.458032  8.350540   \n",
       "validation  0.066477  445.768223  21.113224  16.749939  8.547931   \n",
       "test        0.090079  443.041256  21.048545  16.720535  8.242464   \n",
       "\n",
       "                       model_name  \n",
       "train       Polynomial Regression  \n",
       "validation  Polynomial Regression  \n",
       "test        Polynomial Regression  "
      ]
     },
     "execution_count": 20,
     "metadata": {},
     "output_type": "execute_result"
    }
   ],
   "source": [
    "poly = PolynomialFeatures(degree=best_degree, include_bias=False)\n",
    "x_poly_train = poly.fit_transform(x_train)\n",
    "x_poly_val = poly.fit_transform(x_val)\n",
    "x_poly_test = poly.fit_transform(x_test)\n",
    "pr_scores = modeling(x_poly_train, y_train, x_poly_val, y_val, x_poly_test, y_test, LinearRegression, {})\n",
    "pr_scores['model_name'] = 'Polynomial Regression'\n",
    "pr_scores"
   ]
  },
  {
   "cell_type": "markdown",
   "id": "08bd9799-15d2-4f23-9aad-13e0a7386ef9",
   "metadata": {},
   "source": [
    "## 2.5. Linear Regression Lasso"
   ]
  },
  {
   "cell_type": "code",
   "execution_count": 21,
   "id": "f8d0d635-605a-46b9-87be-b955e20ebe94",
   "metadata": {
    "execution": {
     "iopub.execute_input": "2024-04-16T23:07:45.079783Z",
     "iopub.status.busy": "2024-04-16T23:07:45.079783Z",
     "iopub.status.idle": "2024-04-16T23:07:45.232818Z",
     "shell.execute_reply": "2024-04-16T23:07:45.231817Z",
     "shell.execute_reply.started": "2024-04-16T23:07:45.079783Z"
    }
   },
   "outputs": [
    {
     "data": {
      "text/plain": [
       "(17.03824289549502, {'alpha': 0.01, 'max_iter': 1000})"
      ]
     },
     "execution_count": 21,
     "metadata": {},
     "output_type": "execute_result"
    }
   ],
   "source": [
    "lrl_param = ParameterGrid({\n",
    "    'alpha' : [0.01, 0.1, 1, 10],\n",
    "    'max_iter' : [1000, 2000]\n",
    "})\n",
    "best_score_lrl = search_best_params(x_train, y_train, x_val, y_val, Lasso, lrl_param)\n",
    "best_score_lrl"
   ]
  },
  {
   "cell_type": "code",
   "execution_count": 22,
   "id": "69cb0a55-22be-4bd7-84c4-023c028798a7",
   "metadata": {
    "execution": {
     "iopub.execute_input": "2024-04-16T23:07:45.233817Z",
     "iopub.status.busy": "2024-04-16T23:07:45.233817Z",
     "iopub.status.idle": "2024-04-16T23:07:45.248827Z",
     "shell.execute_reply": "2024-04-16T23:07:45.247826Z",
     "shell.execute_reply.started": "2024-04-16T23:07:45.233817Z"
    }
   },
   "outputs": [
    {
     "name": "stdout",
     "output_type": "stream",
     "text": [
      "Melhor MAE é: 17.03824289549502 com melhor alpha = 0.01 e max_iter = 1000\n"
     ]
    }
   ],
   "source": [
    "best_mae_lrl = best_score_lrl[0]\n",
    "best_alpha_lrl = list(best_score_lrl[1].values())[0]\n",
    "best_max_iter_lrl = list(best_score_lrl[1].values())[1]\n",
    "print('Melhor MAE é: {} com melhor alpha = {} e max_iter = {}'.format(best_mae_lrl, best_alpha_lrl, best_max_iter_lrl))"
   ]
  },
  {
   "cell_type": "code",
   "execution_count": 23,
   "id": "9426fb8a-e44c-4f5f-890c-4d9799095fa9",
   "metadata": {
    "execution": {
     "iopub.execute_input": "2024-04-16T23:07:45.251821Z",
     "iopub.status.busy": "2024-04-16T23:07:45.250822Z",
     "iopub.status.idle": "2024-04-16T23:07:45.310842Z",
     "shell.execute_reply": "2024-04-16T23:07:45.309840Z",
     "shell.execute_reply.started": "2024-04-16T23:07:45.251821Z"
    }
   },
   "outputs": [
    {
     "data": {
      "text/html": [
       "<div>\n",
       "<style scoped>\n",
       "    .dataframe tbody tr th:only-of-type {\n",
       "        vertical-align: middle;\n",
       "    }\n",
       "\n",
       "    .dataframe tbody tr th {\n",
       "        vertical-align: top;\n",
       "    }\n",
       "\n",
       "    .dataframe thead th {\n",
       "        text-align: right;\n",
       "    }\n",
       "</style>\n",
       "<table border=\"1\" class=\"dataframe\">\n",
       "  <thead>\n",
       "    <tr style=\"text-align: right;\">\n",
       "      <th></th>\n",
       "      <th>r2</th>\n",
       "      <th>MSE</th>\n",
       "      <th>RMSE</th>\n",
       "      <th>MAE</th>\n",
       "      <th>MAPE</th>\n",
       "      <th>model_name</th>\n",
       "    </tr>\n",
       "  </thead>\n",
       "  <tbody>\n",
       "    <tr>\n",
       "      <th>train</th>\n",
       "      <td>0.045930</td>\n",
       "      <td>456.057415</td>\n",
       "      <td>21.355501</td>\n",
       "      <td>17.002115</td>\n",
       "      <td>8.660670</td>\n",
       "      <td>Linear Regression Lasso</td>\n",
       "    </tr>\n",
       "    <tr>\n",
       "      <th>validation</th>\n",
       "      <td>0.039928</td>\n",
       "      <td>458.445407</td>\n",
       "      <td>21.411338</td>\n",
       "      <td>17.038243</td>\n",
       "      <td>8.686215</td>\n",
       "      <td>Linear Regression Lasso</td>\n",
       "    </tr>\n",
       "    <tr>\n",
       "      <th>test</th>\n",
       "      <td>0.051981</td>\n",
       "      <td>461.591607</td>\n",
       "      <td>21.484683</td>\n",
       "      <td>17.130186</td>\n",
       "      <td>8.539474</td>\n",
       "      <td>Linear Regression Lasso</td>\n",
       "    </tr>\n",
       "  </tbody>\n",
       "</table>\n",
       "</div>"
      ],
      "text/plain": [
       "                  r2         MSE       RMSE        MAE      MAPE  \\\n",
       "train       0.045930  456.057415  21.355501  17.002115  8.660670   \n",
       "validation  0.039928  458.445407  21.411338  17.038243  8.686215   \n",
       "test        0.051981  461.591607  21.484683  17.130186  8.539474   \n",
       "\n",
       "                         model_name  \n",
       "train       Linear Regression Lasso  \n",
       "validation  Linear Regression Lasso  \n",
       "test        Linear Regression Lasso  "
      ]
     },
     "execution_count": 23,
     "metadata": {},
     "output_type": "execute_result"
    }
   ],
   "source": [
    "best_params_lrl = {'alpha' : best_alpha_lrl,\n",
    "                  'max_iter' : best_max_iter_lrl}\n",
    "lrl_scores = modeling(x_train, y_train, x_val, y_val, x_test, y_test, Lasso, best_params_lrl)\n",
    "lrl_scores['model_name'] = 'Linear Regression Lasso'\n",
    "lrl_scores"
   ]
  },
  {
   "cell_type": "markdown",
   "id": "11632ad9-836c-478e-a1a9-5c9e817a0644",
   "metadata": {},
   "source": [
    "## 2.6. Linear Regression Ridge"
   ]
  },
  {
   "cell_type": "code",
   "execution_count": 24,
   "id": "39a588f9-e62e-4aca-978c-9316c6752e95",
   "metadata": {
    "execution": {
     "iopub.execute_input": "2024-04-16T23:07:45.311842Z",
     "iopub.status.busy": "2024-04-16T23:07:45.311842Z",
     "iopub.status.idle": "2024-04-16T23:07:45.545701Z",
     "shell.execute_reply": "2024-04-16T23:07:45.545701Z",
     "shell.execute_reply.started": "2024-04-16T23:07:45.311842Z"
    }
   },
   "outputs": [],
   "source": [
    "lrr_param = ParameterGrid({\n",
    "    'alpha' : [0.01, 0.1, 1, 10, 100, 1000],\n",
    "    'max_iter' : [500, 1000, 2000]\n",
    "})\n",
    "best_score_lrr = search_best_params(x_train, y_train, x_val, y_val, Ridge, lrr_param)"
   ]
  },
  {
   "cell_type": "code",
   "execution_count": 25,
   "id": "8836c3e1-edfb-4a60-83b1-b23ac45ac3d2",
   "metadata": {
    "execution": {
     "iopub.execute_input": "2024-04-16T23:07:45.547703Z",
     "iopub.status.busy": "2024-04-16T23:07:45.547703Z",
     "iopub.status.idle": "2024-04-16T23:07:45.561707Z",
     "shell.execute_reply": "2024-04-16T23:07:45.560705Z",
     "shell.execute_reply.started": "2024-04-16T23:07:45.547703Z"
    }
   },
   "outputs": [
    {
     "name": "stdout",
     "output_type": "stream",
     "text": [
      "Melhor MAE é: 17.034552675630103 com melhor alpha = 100 e max_iter = 500\n"
     ]
    }
   ],
   "source": [
    "best_mae_lrr = best_score_lrr[0]\n",
    "best_alpha_lrr = list(best_score_lrr[1].values())[0]\n",
    "best_max_iter_lrr = list(best_score_lrr[1].values())[1]\n",
    "print('Melhor MAE é: {} com melhor alpha = {} e max_iter = {}'.format(best_mae_lrr, best_alpha_lrr, best_max_iter_lrr))"
   ]
  },
  {
   "cell_type": "code",
   "execution_count": 26,
   "id": "a3f63799-219a-4ee6-86a9-f7ee4f35a430",
   "metadata": {
    "execution": {
     "iopub.execute_input": "2024-04-16T23:07:45.562706Z",
     "iopub.status.busy": "2024-04-16T23:07:45.562706Z",
     "iopub.status.idle": "2024-04-16T23:07:45.609710Z",
     "shell.execute_reply": "2024-04-16T23:07:45.608708Z",
     "shell.execute_reply.started": "2024-04-16T23:07:45.562706Z"
    }
   },
   "outputs": [
    {
     "data": {
      "text/html": [
       "<div>\n",
       "<style scoped>\n",
       "    .dataframe tbody tr th:only-of-type {\n",
       "        vertical-align: middle;\n",
       "    }\n",
       "\n",
       "    .dataframe tbody tr th {\n",
       "        vertical-align: top;\n",
       "    }\n",
       "\n",
       "    .dataframe thead th {\n",
       "        text-align: right;\n",
       "    }\n",
       "</style>\n",
       "<table border=\"1\" class=\"dataframe\">\n",
       "  <thead>\n",
       "    <tr style=\"text-align: right;\">\n",
       "      <th></th>\n",
       "      <th>r2</th>\n",
       "      <th>MSE</th>\n",
       "      <th>RMSE</th>\n",
       "      <th>MAE</th>\n",
       "      <th>MAPE</th>\n",
       "      <th>model_name</th>\n",
       "    </tr>\n",
       "  </thead>\n",
       "  <tbody>\n",
       "    <tr>\n",
       "      <th>train</th>\n",
       "      <td>0.043985</td>\n",
       "      <td>456.987024</td>\n",
       "      <td>21.377255</td>\n",
       "      <td>17.016602</td>\n",
       "      <td>8.664151</td>\n",
       "      <td>Linear Regression Ridge</td>\n",
       "    </tr>\n",
       "    <tr>\n",
       "      <th>validation</th>\n",
       "      <td>0.038881</td>\n",
       "      <td>458.945555</td>\n",
       "      <td>21.423015</td>\n",
       "      <td>17.034553</td>\n",
       "      <td>8.674899</td>\n",
       "      <td>Linear Regression Ridge</td>\n",
       "    </tr>\n",
       "    <tr>\n",
       "      <th>test</th>\n",
       "      <td>0.048924</td>\n",
       "      <td>463.079905</td>\n",
       "      <td>21.519291</td>\n",
       "      <td>17.141974</td>\n",
       "      <td>8.577784</td>\n",
       "      <td>Linear Regression Ridge</td>\n",
       "    </tr>\n",
       "  </tbody>\n",
       "</table>\n",
       "</div>"
      ],
      "text/plain": [
       "                  r2         MSE       RMSE        MAE      MAPE  \\\n",
       "train       0.043985  456.987024  21.377255  17.016602  8.664151   \n",
       "validation  0.038881  458.945555  21.423015  17.034553  8.674899   \n",
       "test        0.048924  463.079905  21.519291  17.141974  8.577784   \n",
       "\n",
       "                         model_name  \n",
       "train       Linear Regression Ridge  \n",
       "validation  Linear Regression Ridge  \n",
       "test        Linear Regression Ridge  "
      ]
     },
     "execution_count": 26,
     "metadata": {},
     "output_type": "execute_result"
    }
   ],
   "source": [
    "best_params_lrr = {'alpha' : best_alpha_lrr,\n",
    "                  'max_iter' : best_max_iter_lrr}\n",
    "lrr_scores = modeling(x_train, y_train, x_val, y_val, x_test, y_test, Ridge, best_params_lrr)\n",
    "lrr_scores['model_name'] = 'Linear Regression Ridge'\n",
    "lrr_scores"
   ]
  },
  {
   "cell_type": "markdown",
   "id": "fad2e540-63a9-4fdb-a92a-936bcc979686",
   "metadata": {},
   "source": [
    "## 2.7. Linear Regression Elastic Net"
   ]
  },
  {
   "cell_type": "code",
   "execution_count": 27,
   "id": "17a6fbf5-3f87-4172-b969-88718c9fdc09",
   "metadata": {
    "execution": {
     "iopub.execute_input": "2024-04-16T23:07:45.610709Z",
     "iopub.status.busy": "2024-04-16T23:07:45.610709Z",
     "iopub.status.idle": "2024-04-16T23:07:51.631160Z",
     "shell.execute_reply": "2024-04-16T23:07:51.630160Z",
     "shell.execute_reply.started": "2024-04-16T23:07:45.610709Z"
    }
   },
   "outputs": [
    {
     "data": {
      "text/plain": [
       "(17.034077957880456, {'alpha': 0.01, 'l1_ratio': 0.5, 'max_iter': 500})"
      ]
     },
     "execution_count": 27,
     "metadata": {},
     "output_type": "execute_result"
    }
   ],
   "source": [
    "lren_param = ParameterGrid({\n",
    "    'alpha' : [0.01, 0.1, 0.5, 1, 10, 100],\n",
    "    'max_iter' : [500, 1000],\n",
    "    'l1_ratio' : [0.0, 0.1, 0.5, 0.7, 1.0]\n",
    "})\n",
    "best_score_lren = search_best_params(x_train, y_train, x_val, y_val, ElasticNet, lren_param)\n",
    "best_score_lren"
   ]
  },
  {
   "cell_type": "code",
   "execution_count": 28,
   "id": "b81653a4-6449-44c8-ac8d-642c43b346a4",
   "metadata": {
    "execution": {
     "iopub.execute_input": "2024-04-16T23:07:51.633161Z",
     "iopub.status.busy": "2024-04-16T23:07:51.632161Z",
     "iopub.status.idle": "2024-04-16T23:07:51.647165Z",
     "shell.execute_reply": "2024-04-16T23:07:51.646165Z",
     "shell.execute_reply.started": "2024-04-16T23:07:51.633161Z"
    }
   },
   "outputs": [
    {
     "name": "stdout",
     "output_type": "stream",
     "text": [
      "Melhor MAE é: 17.034077957880456 com melhor alpha = 0.01 , max_iter = 500 e l1_ratio = 0.5\n"
     ]
    }
   ],
   "source": [
    "best_mae_lren = best_score_lren[0]\n",
    "best_alpha_lren = list(best_score_lren[1].values())[0]\n",
    "best_l1_ratio_lren = list(best_score_lren[1].values())[1]\n",
    "best_max_iter_lren = list(best_score_lren[1].values())[2]\n",
    "print('Melhor MAE é: {} com melhor alpha = {} , max_iter = {} e l1_ratio = {}'.format(best_mae_lren, best_alpha_lren, best_max_iter_lren, best_l1_ratio_lren))"
   ]
  },
  {
   "cell_type": "code",
   "execution_count": 29,
   "id": "c3d235a5-5bb2-4e16-84ee-7649b7318c0b",
   "metadata": {
    "execution": {
     "iopub.execute_input": "2024-04-16T23:07:51.650165Z",
     "iopub.status.busy": "2024-04-16T23:07:51.649165Z",
     "iopub.status.idle": "2024-04-16T23:07:51.709178Z",
     "shell.execute_reply": "2024-04-16T23:07:51.708179Z",
     "shell.execute_reply.started": "2024-04-16T23:07:51.650165Z"
    }
   },
   "outputs": [
    {
     "data": {
      "text/html": [
       "<div>\n",
       "<style scoped>\n",
       "    .dataframe tbody tr th:only-of-type {\n",
       "        vertical-align: middle;\n",
       "    }\n",
       "\n",
       "    .dataframe tbody tr th {\n",
       "        vertical-align: top;\n",
       "    }\n",
       "\n",
       "    .dataframe thead th {\n",
       "        text-align: right;\n",
       "    }\n",
       "</style>\n",
       "<table border=\"1\" class=\"dataframe\">\n",
       "  <thead>\n",
       "    <tr style=\"text-align: right;\">\n",
       "      <th></th>\n",
       "      <th>r2</th>\n",
       "      <th>MSE</th>\n",
       "      <th>RMSE</th>\n",
       "      <th>MAE</th>\n",
       "      <th>MAPE</th>\n",
       "      <th>model_name</th>\n",
       "    </tr>\n",
       "  </thead>\n",
       "  <tbody>\n",
       "    <tr>\n",
       "      <th>train</th>\n",
       "      <td>0.045055</td>\n",
       "      <td>456.475703</td>\n",
       "      <td>21.365292</td>\n",
       "      <td>17.008724</td>\n",
       "      <td>8.663312</td>\n",
       "      <td>Linear Regression Elastic Net</td>\n",
       "    </tr>\n",
       "    <tr>\n",
       "      <th>validation</th>\n",
       "      <td>0.039538</td>\n",
       "      <td>458.631708</td>\n",
       "      <td>21.415688</td>\n",
       "      <td>17.034078</td>\n",
       "      <td>8.679104</td>\n",
       "      <td>Linear Regression Elastic Net</td>\n",
       "    </tr>\n",
       "    <tr>\n",
       "      <th>test</th>\n",
       "      <td>0.050521</td>\n",
       "      <td>462.302115</td>\n",
       "      <td>21.501212</td>\n",
       "      <td>17.133874</td>\n",
       "      <td>8.563382</td>\n",
       "      <td>Linear Regression Elastic Net</td>\n",
       "    </tr>\n",
       "  </tbody>\n",
       "</table>\n",
       "</div>"
      ],
      "text/plain": [
       "                  r2         MSE       RMSE        MAE      MAPE  \\\n",
       "train       0.045055  456.475703  21.365292  17.008724  8.663312   \n",
       "validation  0.039538  458.631708  21.415688  17.034078  8.679104   \n",
       "test        0.050521  462.302115  21.501212  17.133874  8.563382   \n",
       "\n",
       "                               model_name  \n",
       "train       Linear Regression Elastic Net  \n",
       "validation  Linear Regression Elastic Net  \n",
       "test        Linear Regression Elastic Net  "
      ]
     },
     "execution_count": 29,
     "metadata": {},
     "output_type": "execute_result"
    }
   ],
   "source": [
    "best_params_lren = {'alpha' : best_alpha_lren,\n",
    "                  'max_iter' : best_max_iter_lren,\n",
    "                   'l1_ratio': best_l1_ratio_lren}\n",
    "lren_scores = modeling(x_train, y_train, x_val, y_val, x_test, y_test, ElasticNet, best_params_lren)\n",
    "lren_scores['model_name'] = 'Linear Regression Elastic Net'\n",
    "lren_scores"
   ]
  },
  {
   "cell_type": "markdown",
   "id": "13f9560c-e1df-45ac-8db1-568dd2557390",
   "metadata": {},
   "source": [
    "## 2.8. Polynomial Regression Lasso"
   ]
  },
  {
   "cell_type": "code",
   "execution_count": 30,
   "id": "1dfffdc2-2527-4f08-9ae8-c6df9ca07c30",
   "metadata": {
    "execution": {
     "iopub.execute_input": "2024-04-16T23:07:51.711180Z",
     "iopub.status.busy": "2024-04-16T23:07:51.710178Z",
     "iopub.status.idle": "2024-04-16T23:07:54.564394Z",
     "shell.execute_reply": "2024-04-16T23:07:54.563393Z",
     "shell.execute_reply.started": "2024-04-16T23:07:51.711180Z"
    }
   },
   "outputs": [
    {
     "data": {
      "text/plain": [
       "(16.73238601818895, {'alpha': 0.01, 'max_iter': 1000})"
      ]
     },
     "execution_count": 30,
     "metadata": {},
     "output_type": "execute_result"
    }
   ],
   "source": [
    "prl_param = ParameterGrid({\n",
    "    'alpha' : [0.01, 0.1, 1, 10],\n",
    "    'max_iter' : [1000, 2000]\n",
    "})\n",
    "best_score_prl = search_best_params(x_poly_train, y_train, x_poly_val, y_val, Lasso, prl_param)\n",
    "best_score_prl"
   ]
  },
  {
   "cell_type": "code",
   "execution_count": 31,
   "id": "cb8c03cd-803e-4498-994d-071a1e83b64a",
   "metadata": {
    "execution": {
     "iopub.execute_input": "2024-04-16T23:07:54.565394Z",
     "iopub.status.busy": "2024-04-16T23:07:54.565394Z",
     "iopub.status.idle": "2024-04-16T23:07:54.580397Z",
     "shell.execute_reply": "2024-04-16T23:07:54.579397Z",
     "shell.execute_reply.started": "2024-04-16T23:07:54.565394Z"
    }
   },
   "outputs": [
    {
     "name": "stdout",
     "output_type": "stream",
     "text": [
      "Melhor MAE é: 16.73238601818895 com melhor alpha = 0.01 e max_iter = 1000\n"
     ]
    }
   ],
   "source": [
    "best_mae_prl = best_score_prl[0]\n",
    "best_alpha_prl = list(best_score_prl[1].values())[0]\n",
    "best_max_iter_prl = list(best_score_prl[1].values())[1]\n",
    "print('Melhor MAE é: {} com melhor alpha = {} e max_iter = {}'.format(best_mae_prl, best_alpha_prl, best_max_iter_prl))"
   ]
  },
  {
   "cell_type": "code",
   "execution_count": 32,
   "id": "9fd34524-678d-4770-ba6c-764b045cff67",
   "metadata": {
    "execution": {
     "iopub.execute_input": "2024-04-16T23:07:54.582398Z",
     "iopub.status.busy": "2024-04-16T23:07:54.581398Z",
     "iopub.status.idle": "2024-04-16T23:07:55.960023Z",
     "shell.execute_reply": "2024-04-16T23:07:55.959022Z",
     "shell.execute_reply.started": "2024-04-16T23:07:54.582398Z"
    }
   },
   "outputs": [
    {
     "data": {
      "text/html": [
       "<div>\n",
       "<style scoped>\n",
       "    .dataframe tbody tr th:only-of-type {\n",
       "        vertical-align: middle;\n",
       "    }\n",
       "\n",
       "    .dataframe tbody tr th {\n",
       "        vertical-align: top;\n",
       "    }\n",
       "\n",
       "    .dataframe thead th {\n",
       "        text-align: right;\n",
       "    }\n",
       "</style>\n",
       "<table border=\"1\" class=\"dataframe\">\n",
       "  <thead>\n",
       "    <tr style=\"text-align: right;\">\n",
       "      <th></th>\n",
       "      <th>r2</th>\n",
       "      <th>MSE</th>\n",
       "      <th>RMSE</th>\n",
       "      <th>MAE</th>\n",
       "      <th>MAPE</th>\n",
       "      <th>model_name</th>\n",
       "    </tr>\n",
       "  </thead>\n",
       "  <tbody>\n",
       "    <tr>\n",
       "      <th>train</th>\n",
       "      <td>0.086817</td>\n",
       "      <td>436.512957</td>\n",
       "      <td>20.892893</td>\n",
       "      <td>16.540954</td>\n",
       "      <td>8.432707</td>\n",
       "      <td>Polynomial Regression Lasso</td>\n",
       "    </tr>\n",
       "    <tr>\n",
       "      <th>validation</th>\n",
       "      <td>0.068473</td>\n",
       "      <td>444.814973</td>\n",
       "      <td>21.090637</td>\n",
       "      <td>16.732386</td>\n",
       "      <td>8.591033</td>\n",
       "      <td>Polynomial Regression Lasso</td>\n",
       "    </tr>\n",
       "    <tr>\n",
       "      <th>test</th>\n",
       "      <td>0.085899</td>\n",
       "      <td>445.076890</td>\n",
       "      <td>21.096846</td>\n",
       "      <td>16.760885</td>\n",
       "      <td>8.322458</td>\n",
       "      <td>Polynomial Regression Lasso</td>\n",
       "    </tr>\n",
       "  </tbody>\n",
       "</table>\n",
       "</div>"
      ],
      "text/plain": [
       "                  r2         MSE       RMSE        MAE      MAPE  \\\n",
       "train       0.086817  436.512957  20.892893  16.540954  8.432707   \n",
       "validation  0.068473  444.814973  21.090637  16.732386  8.591033   \n",
       "test        0.085899  445.076890  21.096846  16.760885  8.322458   \n",
       "\n",
       "                             model_name  \n",
       "train       Polynomial Regression Lasso  \n",
       "validation  Polynomial Regression Lasso  \n",
       "test        Polynomial Regression Lasso  "
      ]
     },
     "execution_count": 32,
     "metadata": {},
     "output_type": "execute_result"
    }
   ],
   "source": [
    "best_params_prl = {'alpha' : best_alpha_prl,\n",
    "                  'max_iter' : best_max_iter_prl}\n",
    "prl_scores = modeling(x_poly_train, y_train, x_poly_val, y_val, x_poly_test, y_test, Lasso, best_params_prl)\n",
    "prl_scores['model_name'] = 'Polynomial Regression Lasso'\n",
    "prl_scores"
   ]
  },
  {
   "cell_type": "markdown",
   "id": "2468235e-570c-4be0-b2cd-e98059dbda66",
   "metadata": {},
   "source": [
    "## 2.9. Polynomial Regression Ridge"
   ]
  },
  {
   "cell_type": "code",
   "execution_count": 33,
   "id": "c375a4ac-49ee-4605-b488-a8d50e372cfd",
   "metadata": {
    "execution": {
     "iopub.execute_input": "2024-04-16T23:07:55.961023Z",
     "iopub.status.busy": "2024-04-16T23:07:55.961023Z",
     "iopub.status.idle": "2024-04-16T23:07:56.359930Z",
     "shell.execute_reply": "2024-04-16T23:07:56.358928Z",
     "shell.execute_reply.started": "2024-04-16T23:07:55.961023Z"
    }
   },
   "outputs": [],
   "source": [
    "prr_param = ParameterGrid({\n",
    "    'alpha' : [0.01, 0.1, 1, 10, 100, 1000],\n",
    "    'max_iter' : [500, 1000, 2000]\n",
    "})\n",
    "best_score_prr = search_best_params(x_poly_train, y_train, x_poly_val, y_val, Ridge, prr_param)"
   ]
  },
  {
   "cell_type": "code",
   "execution_count": 34,
   "id": "fc3ec993-8cc9-4fdb-816c-306af7b20768",
   "metadata": {
    "execution": {
     "iopub.execute_input": "2024-04-16T23:07:56.360929Z",
     "iopub.status.busy": "2024-04-16T23:07:56.360929Z",
     "iopub.status.idle": "2024-04-16T23:07:56.375933Z",
     "shell.execute_reply": "2024-04-16T23:07:56.374932Z",
     "shell.execute_reply.started": "2024-04-16T23:07:56.360929Z"
    }
   },
   "outputs": [
    {
     "name": "stdout",
     "output_type": "stream",
     "text": [
      "Melhor MAE é: 16.738740611690595 com melhor alpha = 1 e max_iter = 500\n"
     ]
    }
   ],
   "source": [
    "best_mae_prr = best_score_prr[0]\n",
    "best_alpha_prr = list(best_score_prr[1].values())[0]\n",
    "best_max_iter_prr = list(best_score_prr[1].values())[1]\n",
    "print('Melhor MAE é: {} com melhor alpha = {} e max_iter = {}'.format(best_mae_prr, best_alpha_prr, best_max_iter_prr))"
   ]
  },
  {
   "cell_type": "code",
   "execution_count": 35,
   "id": "ab6b780d-c9be-4fea-bc07-6ddd2def84c0",
   "metadata": {
    "execution": {
     "iopub.execute_input": "2024-04-16T23:07:56.377934Z",
     "iopub.status.busy": "2024-04-16T23:07:56.376934Z",
     "iopub.status.idle": "2024-04-16T23:07:56.439939Z",
     "shell.execute_reply": "2024-04-16T23:07:56.438937Z",
     "shell.execute_reply.started": "2024-04-16T23:07:56.377934Z"
    }
   },
   "outputs": [
    {
     "data": {
      "text/html": [
       "<div>\n",
       "<style scoped>\n",
       "    .dataframe tbody tr th:only-of-type {\n",
       "        vertical-align: middle;\n",
       "    }\n",
       "\n",
       "    .dataframe tbody tr th {\n",
       "        vertical-align: top;\n",
       "    }\n",
       "\n",
       "    .dataframe thead th {\n",
       "        text-align: right;\n",
       "    }\n",
       "</style>\n",
       "<table border=\"1\" class=\"dataframe\">\n",
       "  <thead>\n",
       "    <tr style=\"text-align: right;\">\n",
       "      <th></th>\n",
       "      <th>r2</th>\n",
       "      <th>MSE</th>\n",
       "      <th>RMSE</th>\n",
       "      <th>MAE</th>\n",
       "      <th>MAPE</th>\n",
       "      <th>model_name</th>\n",
       "    </tr>\n",
       "  </thead>\n",
       "  <tbody>\n",
       "    <tr>\n",
       "      <th>train</th>\n",
       "      <td>0.093171</td>\n",
       "      <td>433.475457</td>\n",
       "      <td>20.820073</td>\n",
       "      <td>16.471972</td>\n",
       "      <td>8.372689</td>\n",
       "      <td>Polynomial Regression Ridge</td>\n",
       "    </tr>\n",
       "    <tr>\n",
       "      <th>validation</th>\n",
       "      <td>0.067699</td>\n",
       "      <td>445.184410</td>\n",
       "      <td>21.099394</td>\n",
       "      <td>16.738741</td>\n",
       "      <td>8.568992</td>\n",
       "      <td>Polynomial Regression Ridge</td>\n",
       "    </tr>\n",
       "    <tr>\n",
       "      <th>test</th>\n",
       "      <td>0.089167</td>\n",
       "      <td>443.485300</td>\n",
       "      <td>21.059091</td>\n",
       "      <td>16.728879</td>\n",
       "      <td>8.288682</td>\n",
       "      <td>Polynomial Regression Ridge</td>\n",
       "    </tr>\n",
       "  </tbody>\n",
       "</table>\n",
       "</div>"
      ],
      "text/plain": [
       "                  r2         MSE       RMSE        MAE      MAPE  \\\n",
       "train       0.093171  433.475457  20.820073  16.471972  8.372689   \n",
       "validation  0.067699  445.184410  21.099394  16.738741  8.568992   \n",
       "test        0.089167  443.485300  21.059091  16.728879  8.288682   \n",
       "\n",
       "                             model_name  \n",
       "train       Polynomial Regression Ridge  \n",
       "validation  Polynomial Regression Ridge  \n",
       "test        Polynomial Regression Ridge  "
      ]
     },
     "execution_count": 35,
     "metadata": {},
     "output_type": "execute_result"
    }
   ],
   "source": [
    "best_params_prr = {'alpha' : best_alpha_prr,\n",
    "                  'max_iter' : best_max_iter_prr}\n",
    "prr_scores = modeling(x_poly_train, y_train, x_poly_val, y_val, x_poly_test, y_test, Ridge, best_params_prr)\n",
    "prr_scores['model_name'] = 'Polynomial Regression Ridge'\n",
    "prr_scores"
   ]
  },
  {
   "cell_type": "markdown",
   "id": "9bc5c52a-6920-4afb-9f0c-1c1a46f180e0",
   "metadata": {},
   "source": [
    "## 2.10. Polynomial Regression Elastic Net"
   ]
  },
  {
   "cell_type": "code",
   "execution_count": 36,
   "id": "5aa1adc9-489f-4cef-a0f4-061149168a43",
   "metadata": {
    "execution": {
     "iopub.execute_input": "2024-04-16T23:07:56.440939Z",
     "iopub.status.busy": "2024-04-16T23:07:56.440939Z",
     "iopub.status.idle": "2024-04-16T23:08:52.135211Z",
     "shell.execute_reply": "2024-04-16T23:08:52.134211Z",
     "shell.execute_reply.started": "2024-04-16T23:07:56.440939Z"
    }
   },
   "outputs": [
    {
     "data": {
      "text/plain": [
       "(16.73238601818895, {'alpha': 0.01, 'l1_ratio': 1.0, 'max_iter': 500})"
      ]
     },
     "execution_count": 36,
     "metadata": {},
     "output_type": "execute_result"
    }
   ],
   "source": [
    "pren_param = ParameterGrid({\n",
    "    'alpha' : [0.01, 0.1, 0.5, 1, 10, 100],\n",
    "    'max_iter' : [500, 1000],\n",
    "    'l1_ratio' : [0.0, 0.1, 0.5, 0.7, 1.0]\n",
    "})\n",
    "best_score_pren = search_best_params(x_poly_train, y_train, x_poly_val, y_val, ElasticNet, pren_param)\n",
    "best_score_pren"
   ]
  },
  {
   "cell_type": "code",
   "execution_count": 37,
   "id": "501aac5b-7abd-4ffd-8c18-f6820ee2684f",
   "metadata": {
    "execution": {
     "iopub.execute_input": "2024-04-16T23:08:52.137213Z",
     "iopub.status.busy": "2024-04-16T23:08:52.136212Z",
     "iopub.status.idle": "2024-04-16T23:08:52.151217Z",
     "shell.execute_reply": "2024-04-16T23:08:52.150217Z",
     "shell.execute_reply.started": "2024-04-16T23:08:52.137213Z"
    }
   },
   "outputs": [
    {
     "name": "stdout",
     "output_type": "stream",
     "text": [
      "Melhor MAE é: 16.73238601818895 com melhor alpha = 0.01 , max_iter = 500 e l1_ratio = 1.0\n"
     ]
    }
   ],
   "source": [
    "best_mae_pren = best_score_pren[0]\n",
    "best_alpha_pren = list(best_score_pren[1].values())[0]\n",
    "best_l1_ratio_pren = list(best_score_pren[1].values())[1]\n",
    "best_max_iter_pren = list(best_score_pren[1].values())[2]\n",
    "print('Melhor MAE é: {} com melhor alpha = {} , max_iter = {} e l1_ratio = {}'.format(best_mae_pren, best_alpha_pren, best_max_iter_pren, best_l1_ratio_pren))"
   ]
  },
  {
   "cell_type": "code",
   "execution_count": 38,
   "id": "49359995-70b5-4894-9c8f-2eb36e086019",
   "metadata": {
    "execution": {
     "iopub.execute_input": "2024-04-16T23:08:52.153216Z",
     "iopub.status.busy": "2024-04-16T23:08:52.153216Z",
     "iopub.status.idle": "2024-04-16T23:08:53.281376Z",
     "shell.execute_reply": "2024-04-16T23:08:53.280375Z",
     "shell.execute_reply.started": "2024-04-16T23:08:52.153216Z"
    }
   },
   "outputs": [
    {
     "data": {
      "text/html": [
       "<div>\n",
       "<style scoped>\n",
       "    .dataframe tbody tr th:only-of-type {\n",
       "        vertical-align: middle;\n",
       "    }\n",
       "\n",
       "    .dataframe tbody tr th {\n",
       "        vertical-align: top;\n",
       "    }\n",
       "\n",
       "    .dataframe thead th {\n",
       "        text-align: right;\n",
       "    }\n",
       "</style>\n",
       "<table border=\"1\" class=\"dataframe\">\n",
       "  <thead>\n",
       "    <tr style=\"text-align: right;\">\n",
       "      <th></th>\n",
       "      <th>r2</th>\n",
       "      <th>MSE</th>\n",
       "      <th>RMSE</th>\n",
       "      <th>MAE</th>\n",
       "      <th>MAPE</th>\n",
       "      <th>model_name</th>\n",
       "    </tr>\n",
       "  </thead>\n",
       "  <tbody>\n",
       "    <tr>\n",
       "      <th>train</th>\n",
       "      <td>0.086817</td>\n",
       "      <td>436.512957</td>\n",
       "      <td>20.892893</td>\n",
       "      <td>16.540954</td>\n",
       "      <td>8.432707</td>\n",
       "      <td>Polynomial Regression Elastic Net</td>\n",
       "    </tr>\n",
       "    <tr>\n",
       "      <th>validation</th>\n",
       "      <td>0.068473</td>\n",
       "      <td>444.814973</td>\n",
       "      <td>21.090637</td>\n",
       "      <td>16.732386</td>\n",
       "      <td>8.591033</td>\n",
       "      <td>Polynomial Regression Elastic Net</td>\n",
       "    </tr>\n",
       "    <tr>\n",
       "      <th>test</th>\n",
       "      <td>0.085899</td>\n",
       "      <td>445.076890</td>\n",
       "      <td>21.096846</td>\n",
       "      <td>16.760885</td>\n",
       "      <td>8.322458</td>\n",
       "      <td>Polynomial Regression Elastic Net</td>\n",
       "    </tr>\n",
       "  </tbody>\n",
       "</table>\n",
       "</div>"
      ],
      "text/plain": [
       "                  r2         MSE       RMSE        MAE      MAPE  \\\n",
       "train       0.086817  436.512957  20.892893  16.540954  8.432707   \n",
       "validation  0.068473  444.814973  21.090637  16.732386  8.591033   \n",
       "test        0.085899  445.076890  21.096846  16.760885  8.322458   \n",
       "\n",
       "                                   model_name  \n",
       "train       Polynomial Regression Elastic Net  \n",
       "validation  Polynomial Regression Elastic Net  \n",
       "test        Polynomial Regression Elastic Net  "
      ]
     },
     "execution_count": 38,
     "metadata": {},
     "output_type": "execute_result"
    }
   ],
   "source": [
    "best_params_pren = {'alpha' : best_alpha_pren,\n",
    "                  'max_iter' : best_max_iter_pren,\n",
    "                   'l1_ratio': best_l1_ratio_pren}\n",
    "pren_scores = modeling(x_poly_train, y_train, x_poly_val, y_val, x_poly_test, y_test, ElasticNet, best_params_pren)\n",
    "pren_scores['model_name'] = 'Polynomial Regression Elastic Net'\n",
    "pren_scores"
   ]
  },
  {
   "cell_type": "markdown",
   "id": "75749471-45ea-4114-b2d0-ab2b60913b80",
   "metadata": {},
   "source": [
    "# 3.0. Comparando os modelos"
   ]
  },
  {
   "cell_type": "code",
   "execution_count": 39,
   "id": "2bbb6914-a23b-4465-9a9a-0b7581dbf85e",
   "metadata": {
    "execution": {
     "iopub.execute_input": "2024-04-16T23:08:53.282377Z",
     "iopub.status.busy": "2024-04-16T23:08:53.282377Z",
     "iopub.status.idle": "2024-04-16T23:08:53.298381Z",
     "shell.execute_reply": "2024-04-16T23:08:53.296379Z",
     "shell.execute_reply.started": "2024-04-16T23:08:53.282377Z"
    }
   },
   "outputs": [],
   "source": [
    "scores = pd.concat([lr_scores, dt_scores, rf_scores, pr_scores, lrl_scores, lrr_scores, lren_scores, prl_scores, prr_scores, pren_scores])"
   ]
  },
  {
   "cell_type": "markdown",
   "id": "f033b56a-e39e-41b9-b0dd-a78d3e78eb18",
   "metadata": {},
   "source": [
    "## 3.1. Treinamento"
   ]
  },
  {
   "cell_type": "code",
   "execution_count": 40,
   "id": "1b9c50f3-30c3-4317-915d-1085c40e1af2",
   "metadata": {
    "execution": {
     "iopub.execute_input": "2024-04-16T23:08:53.300382Z",
     "iopub.status.busy": "2024-04-16T23:08:53.299382Z",
     "iopub.status.idle": "2024-04-16T23:08:53.328739Z",
     "shell.execute_reply": "2024-04-16T23:08:53.327738Z",
     "shell.execute_reply.started": "2024-04-16T23:08:53.300382Z"
    }
   },
   "outputs": [
    {
     "data": {
      "text/html": [
       "<div>\n",
       "<style scoped>\n",
       "    .dataframe tbody tr th:only-of-type {\n",
       "        vertical-align: middle;\n",
       "    }\n",
       "\n",
       "    .dataframe tbody tr th {\n",
       "        vertical-align: top;\n",
       "    }\n",
       "\n",
       "    .dataframe thead th {\n",
       "        text-align: right;\n",
       "    }\n",
       "</style>\n",
       "<table border=\"1\" class=\"dataframe\">\n",
       "  <thead>\n",
       "    <tr style=\"text-align: right;\">\n",
       "      <th></th>\n",
       "      <th>r2</th>\n",
       "      <th>MSE</th>\n",
       "      <th>RMSE</th>\n",
       "      <th>MAE</th>\n",
       "      <th>MAPE</th>\n",
       "      <th>model_name</th>\n",
       "    </tr>\n",
       "  </thead>\n",
       "  <tbody>\n",
       "    <tr>\n",
       "      <th>train</th>\n",
       "      <td>0.046058</td>\n",
       "      <td>455.996112</td>\n",
       "      <td>21.354065</td>\n",
       "      <td>16.998249</td>\n",
       "      <td>8.653186</td>\n",
       "      <td>Linear Regression</td>\n",
       "    </tr>\n",
       "    <tr>\n",
       "      <th>train</th>\n",
       "      <td>0.191565</td>\n",
       "      <td>386.442081</td>\n",
       "      <td>19.658130</td>\n",
       "      <td>15.505405</td>\n",
       "      <td>6.535123</td>\n",
       "      <td>Decision Tree</td>\n",
       "    </tr>\n",
       "    <tr>\n",
       "      <th>train</th>\n",
       "      <td>0.844462</td>\n",
       "      <td>74.349328</td>\n",
       "      <td>8.622606</td>\n",
       "      <td>6.159131</td>\n",
       "      <td>2.686078</td>\n",
       "      <td>Random Forest</td>\n",
       "    </tr>\n",
       "    <tr>\n",
       "      <th>train</th>\n",
       "      <td>0.094195</td>\n",
       "      <td>432.986210</td>\n",
       "      <td>20.808321</td>\n",
       "      <td>16.458032</td>\n",
       "      <td>8.350540</td>\n",
       "      <td>Polynomial Regression</td>\n",
       "    </tr>\n",
       "    <tr>\n",
       "      <th>train</th>\n",
       "      <td>0.045930</td>\n",
       "      <td>456.057415</td>\n",
       "      <td>21.355501</td>\n",
       "      <td>17.002115</td>\n",
       "      <td>8.660670</td>\n",
       "      <td>Linear Regression Lasso</td>\n",
       "    </tr>\n",
       "    <tr>\n",
       "      <th>train</th>\n",
       "      <td>0.043985</td>\n",
       "      <td>456.987024</td>\n",
       "      <td>21.377255</td>\n",
       "      <td>17.016602</td>\n",
       "      <td>8.664151</td>\n",
       "      <td>Linear Regression Ridge</td>\n",
       "    </tr>\n",
       "    <tr>\n",
       "      <th>train</th>\n",
       "      <td>0.045055</td>\n",
       "      <td>456.475703</td>\n",
       "      <td>21.365292</td>\n",
       "      <td>17.008724</td>\n",
       "      <td>8.663312</td>\n",
       "      <td>Linear Regression Elastic Net</td>\n",
       "    </tr>\n",
       "    <tr>\n",
       "      <th>train</th>\n",
       "      <td>0.086817</td>\n",
       "      <td>436.512957</td>\n",
       "      <td>20.892893</td>\n",
       "      <td>16.540954</td>\n",
       "      <td>8.432707</td>\n",
       "      <td>Polynomial Regression Lasso</td>\n",
       "    </tr>\n",
       "    <tr>\n",
       "      <th>train</th>\n",
       "      <td>0.093171</td>\n",
       "      <td>433.475457</td>\n",
       "      <td>20.820073</td>\n",
       "      <td>16.471972</td>\n",
       "      <td>8.372689</td>\n",
       "      <td>Polynomial Regression Ridge</td>\n",
       "    </tr>\n",
       "    <tr>\n",
       "      <th>train</th>\n",
       "      <td>0.086817</td>\n",
       "      <td>436.512957</td>\n",
       "      <td>20.892893</td>\n",
       "      <td>16.540954</td>\n",
       "      <td>8.432707</td>\n",
       "      <td>Polynomial Regression Elastic Net</td>\n",
       "    </tr>\n",
       "  </tbody>\n",
       "</table>\n",
       "</div>"
      ],
      "text/plain": [
       "             r2         MSE       RMSE        MAE      MAPE  \\\n",
       "train  0.046058  455.996112  21.354065  16.998249  8.653186   \n",
       "train  0.191565  386.442081  19.658130  15.505405  6.535123   \n",
       "train  0.844462   74.349328   8.622606   6.159131  2.686078   \n",
       "train  0.094195  432.986210  20.808321  16.458032  8.350540   \n",
       "train  0.045930  456.057415  21.355501  17.002115  8.660670   \n",
       "train  0.043985  456.987024  21.377255  17.016602  8.664151   \n",
       "train  0.045055  456.475703  21.365292  17.008724  8.663312   \n",
       "train  0.086817  436.512957  20.892893  16.540954  8.432707   \n",
       "train  0.093171  433.475457  20.820073  16.471972  8.372689   \n",
       "train  0.086817  436.512957  20.892893  16.540954  8.432707   \n",
       "\n",
       "                              model_name  \n",
       "train                  Linear Regression  \n",
       "train                      Decision Tree  \n",
       "train                      Random Forest  \n",
       "train              Polynomial Regression  \n",
       "train            Linear Regression Lasso  \n",
       "train            Linear Regression Ridge  \n",
       "train      Linear Regression Elastic Net  \n",
       "train        Polynomial Regression Lasso  \n",
       "train        Polynomial Regression Ridge  \n",
       "train  Polynomial Regression Elastic Net  "
      ]
     },
     "execution_count": 40,
     "metadata": {},
     "output_type": "execute_result"
    }
   ],
   "source": [
    "scores.loc['train']"
   ]
  },
  {
   "cell_type": "markdown",
   "id": "34ebe7d4-edc3-48c2-aa31-ed4dcd650029",
   "metadata": {},
   "source": [
    "## 3.2. Validação"
   ]
  },
  {
   "cell_type": "code",
   "execution_count": 41,
   "id": "c8eacf1d-06b2-4316-9140-734e1520d561",
   "metadata": {
    "execution": {
     "iopub.execute_input": "2024-04-16T23:08:53.330738Z",
     "iopub.status.busy": "2024-04-16T23:08:53.329738Z",
     "iopub.status.idle": "2024-04-16T23:08:53.360105Z",
     "shell.execute_reply": "2024-04-16T23:08:53.359104Z",
     "shell.execute_reply.started": "2024-04-16T23:08:53.330738Z"
    }
   },
   "outputs": [
    {
     "data": {
      "text/html": [
       "<div>\n",
       "<style scoped>\n",
       "    .dataframe tbody tr th:only-of-type {\n",
       "        vertical-align: middle;\n",
       "    }\n",
       "\n",
       "    .dataframe tbody tr th {\n",
       "        vertical-align: top;\n",
       "    }\n",
       "\n",
       "    .dataframe thead th {\n",
       "        text-align: right;\n",
       "    }\n",
       "</style>\n",
       "<table border=\"1\" class=\"dataframe\">\n",
       "  <thead>\n",
       "    <tr style=\"text-align: right;\">\n",
       "      <th></th>\n",
       "      <th>r2</th>\n",
       "      <th>MSE</th>\n",
       "      <th>RMSE</th>\n",
       "      <th>MAE</th>\n",
       "      <th>MAPE</th>\n",
       "      <th>model_name</th>\n",
       "    </tr>\n",
       "  </thead>\n",
       "  <tbody>\n",
       "    <tr>\n",
       "      <th>validation</th>\n",
       "      <td>0.039925</td>\n",
       "      <td>458.447042</td>\n",
       "      <td>21.411376</td>\n",
       "      <td>17.039754</td>\n",
       "      <td>8.682542</td>\n",
       "      <td>Linear Regression</td>\n",
       "    </tr>\n",
       "    <tr>\n",
       "      <th>validation</th>\n",
       "      <td>0.058818</td>\n",
       "      <td>449.425251</td>\n",
       "      <td>21.199652</td>\n",
       "      <td>16.724101</td>\n",
       "      <td>7.997339</td>\n",
       "      <td>Decision Tree</td>\n",
       "    </tr>\n",
       "    <tr>\n",
       "      <th>validation</th>\n",
       "      <td>0.247422</td>\n",
       "      <td>359.364904</td>\n",
       "      <td>18.956922</td>\n",
       "      <td>14.030857</td>\n",
       "      <td>7.210582</td>\n",
       "      <td>Random Forest</td>\n",
       "    </tr>\n",
       "    <tr>\n",
       "      <th>validation</th>\n",
       "      <td>0.066477</td>\n",
       "      <td>445.768223</td>\n",
       "      <td>21.113224</td>\n",
       "      <td>16.749939</td>\n",
       "      <td>8.547931</td>\n",
       "      <td>Polynomial Regression</td>\n",
       "    </tr>\n",
       "    <tr>\n",
       "      <th>validation</th>\n",
       "      <td>0.039928</td>\n",
       "      <td>458.445407</td>\n",
       "      <td>21.411338</td>\n",
       "      <td>17.038243</td>\n",
       "      <td>8.686215</td>\n",
       "      <td>Linear Regression Lasso</td>\n",
       "    </tr>\n",
       "    <tr>\n",
       "      <th>validation</th>\n",
       "      <td>0.038881</td>\n",
       "      <td>458.945555</td>\n",
       "      <td>21.423015</td>\n",
       "      <td>17.034553</td>\n",
       "      <td>8.674899</td>\n",
       "      <td>Linear Regression Ridge</td>\n",
       "    </tr>\n",
       "    <tr>\n",
       "      <th>validation</th>\n",
       "      <td>0.039538</td>\n",
       "      <td>458.631708</td>\n",
       "      <td>21.415688</td>\n",
       "      <td>17.034078</td>\n",
       "      <td>8.679104</td>\n",
       "      <td>Linear Regression Elastic Net</td>\n",
       "    </tr>\n",
       "    <tr>\n",
       "      <th>validation</th>\n",
       "      <td>0.068473</td>\n",
       "      <td>444.814973</td>\n",
       "      <td>21.090637</td>\n",
       "      <td>16.732386</td>\n",
       "      <td>8.591033</td>\n",
       "      <td>Polynomial Regression Lasso</td>\n",
       "    </tr>\n",
       "    <tr>\n",
       "      <th>validation</th>\n",
       "      <td>0.067699</td>\n",
       "      <td>445.184410</td>\n",
       "      <td>21.099394</td>\n",
       "      <td>16.738741</td>\n",
       "      <td>8.568992</td>\n",
       "      <td>Polynomial Regression Ridge</td>\n",
       "    </tr>\n",
       "    <tr>\n",
       "      <th>validation</th>\n",
       "      <td>0.068473</td>\n",
       "      <td>444.814973</td>\n",
       "      <td>21.090637</td>\n",
       "      <td>16.732386</td>\n",
       "      <td>8.591033</td>\n",
       "      <td>Polynomial Regression Elastic Net</td>\n",
       "    </tr>\n",
       "  </tbody>\n",
       "</table>\n",
       "</div>"
      ],
      "text/plain": [
       "                  r2         MSE       RMSE        MAE      MAPE  \\\n",
       "validation  0.039925  458.447042  21.411376  17.039754  8.682542   \n",
       "validation  0.058818  449.425251  21.199652  16.724101  7.997339   \n",
       "validation  0.247422  359.364904  18.956922  14.030857  7.210582   \n",
       "validation  0.066477  445.768223  21.113224  16.749939  8.547931   \n",
       "validation  0.039928  458.445407  21.411338  17.038243  8.686215   \n",
       "validation  0.038881  458.945555  21.423015  17.034553  8.674899   \n",
       "validation  0.039538  458.631708  21.415688  17.034078  8.679104   \n",
       "validation  0.068473  444.814973  21.090637  16.732386  8.591033   \n",
       "validation  0.067699  445.184410  21.099394  16.738741  8.568992   \n",
       "validation  0.068473  444.814973  21.090637  16.732386  8.591033   \n",
       "\n",
       "                                   model_name  \n",
       "validation                  Linear Regression  \n",
       "validation                      Decision Tree  \n",
       "validation                      Random Forest  \n",
       "validation              Polynomial Regression  \n",
       "validation            Linear Regression Lasso  \n",
       "validation            Linear Regression Ridge  \n",
       "validation      Linear Regression Elastic Net  \n",
       "validation        Polynomial Regression Lasso  \n",
       "validation        Polynomial Regression Ridge  \n",
       "validation  Polynomial Regression Elastic Net  "
      ]
     },
     "execution_count": 41,
     "metadata": {},
     "output_type": "execute_result"
    }
   ],
   "source": [
    "scores.loc['validation']"
   ]
  },
  {
   "cell_type": "markdown",
   "id": "e8c7e626-f9ca-42b3-86ed-5f4733a2c413",
   "metadata": {},
   "source": [
    "## 3.3. Teste"
   ]
  },
  {
   "cell_type": "code",
   "execution_count": 42,
   "id": "6d1188b5-d3d6-4eea-8568-3ada1bb2b8d7",
   "metadata": {
    "execution": {
     "iopub.execute_input": "2024-04-16T23:08:53.362104Z",
     "iopub.status.busy": "2024-04-16T23:08:53.361105Z",
     "iopub.status.idle": "2024-04-16T23:08:53.390471Z",
     "shell.execute_reply": "2024-04-16T23:08:53.389470Z",
     "shell.execute_reply.started": "2024-04-16T23:08:53.362104Z"
    }
   },
   "outputs": [
    {
     "data": {
      "text/html": [
       "<div>\n",
       "<style scoped>\n",
       "    .dataframe tbody tr th:only-of-type {\n",
       "        vertical-align: middle;\n",
       "    }\n",
       "\n",
       "    .dataframe tbody tr th {\n",
       "        vertical-align: top;\n",
       "    }\n",
       "\n",
       "    .dataframe thead th {\n",
       "        text-align: right;\n",
       "    }\n",
       "</style>\n",
       "<table border=\"1\" class=\"dataframe\">\n",
       "  <thead>\n",
       "    <tr style=\"text-align: right;\">\n",
       "      <th></th>\n",
       "      <th>r2</th>\n",
       "      <th>MSE</th>\n",
       "      <th>RMSE</th>\n",
       "      <th>MAE</th>\n",
       "      <th>MAPE</th>\n",
       "      <th>model_name</th>\n",
       "    </tr>\n",
       "  </thead>\n",
       "  <tbody>\n",
       "    <tr>\n",
       "      <th>test</th>\n",
       "      <td>0.052317</td>\n",
       "      <td>461.427719</td>\n",
       "      <td>21.480869</td>\n",
       "      <td>17.129965</td>\n",
       "      <td>8.521859</td>\n",
       "      <td>Linear Regression</td>\n",
       "    </tr>\n",
       "    <tr>\n",
       "      <th>test</th>\n",
       "      <td>0.077381</td>\n",
       "      <td>449.224004</td>\n",
       "      <td>21.194905</td>\n",
       "      <td>16.856217</td>\n",
       "      <td>7.453107</td>\n",
       "      <td>Decision Tree</td>\n",
       "    </tr>\n",
       "    <tr>\n",
       "      <th>test</th>\n",
       "      <td>0.286721</td>\n",
       "      <td>347.296028</td>\n",
       "      <td>18.635880</td>\n",
       "      <td>13.877213</td>\n",
       "      <td>6.530233</td>\n",
       "      <td>Random Forest</td>\n",
       "    </tr>\n",
       "    <tr>\n",
       "      <th>test</th>\n",
       "      <td>0.090079</td>\n",
       "      <td>443.041256</td>\n",
       "      <td>21.048545</td>\n",
       "      <td>16.720535</td>\n",
       "      <td>8.242464</td>\n",
       "      <td>Polynomial Regression</td>\n",
       "    </tr>\n",
       "    <tr>\n",
       "      <th>test</th>\n",
       "      <td>0.051981</td>\n",
       "      <td>461.591607</td>\n",
       "      <td>21.484683</td>\n",
       "      <td>17.130186</td>\n",
       "      <td>8.539474</td>\n",
       "      <td>Linear Regression Lasso</td>\n",
       "    </tr>\n",
       "    <tr>\n",
       "      <th>test</th>\n",
       "      <td>0.048924</td>\n",
       "      <td>463.079905</td>\n",
       "      <td>21.519291</td>\n",
       "      <td>17.141974</td>\n",
       "      <td>8.577784</td>\n",
       "      <td>Linear Regression Ridge</td>\n",
       "    </tr>\n",
       "    <tr>\n",
       "      <th>test</th>\n",
       "      <td>0.050521</td>\n",
       "      <td>462.302115</td>\n",
       "      <td>21.501212</td>\n",
       "      <td>17.133874</td>\n",
       "      <td>8.563382</td>\n",
       "      <td>Linear Regression Elastic Net</td>\n",
       "    </tr>\n",
       "    <tr>\n",
       "      <th>test</th>\n",
       "      <td>0.085899</td>\n",
       "      <td>445.076890</td>\n",
       "      <td>21.096846</td>\n",
       "      <td>16.760885</td>\n",
       "      <td>8.322458</td>\n",
       "      <td>Polynomial Regression Lasso</td>\n",
       "    </tr>\n",
       "    <tr>\n",
       "      <th>test</th>\n",
       "      <td>0.089167</td>\n",
       "      <td>443.485300</td>\n",
       "      <td>21.059091</td>\n",
       "      <td>16.728879</td>\n",
       "      <td>8.288682</td>\n",
       "      <td>Polynomial Regression Ridge</td>\n",
       "    </tr>\n",
       "    <tr>\n",
       "      <th>test</th>\n",
       "      <td>0.085899</td>\n",
       "      <td>445.076890</td>\n",
       "      <td>21.096846</td>\n",
       "      <td>16.760885</td>\n",
       "      <td>8.322458</td>\n",
       "      <td>Polynomial Regression Elastic Net</td>\n",
       "    </tr>\n",
       "  </tbody>\n",
       "</table>\n",
       "</div>"
      ],
      "text/plain": [
       "            r2         MSE       RMSE        MAE      MAPE  \\\n",
       "test  0.052317  461.427719  21.480869  17.129965  8.521859   \n",
       "test  0.077381  449.224004  21.194905  16.856217  7.453107   \n",
       "test  0.286721  347.296028  18.635880  13.877213  6.530233   \n",
       "test  0.090079  443.041256  21.048545  16.720535  8.242464   \n",
       "test  0.051981  461.591607  21.484683  17.130186  8.539474   \n",
       "test  0.048924  463.079905  21.519291  17.141974  8.577784   \n",
       "test  0.050521  462.302115  21.501212  17.133874  8.563382   \n",
       "test  0.085899  445.076890  21.096846  16.760885  8.322458   \n",
       "test  0.089167  443.485300  21.059091  16.728879  8.288682   \n",
       "test  0.085899  445.076890  21.096846  16.760885  8.322458   \n",
       "\n",
       "                             model_name  \n",
       "test                  Linear Regression  \n",
       "test                      Decision Tree  \n",
       "test                      Random Forest  \n",
       "test              Polynomial Regression  \n",
       "test            Linear Regression Lasso  \n",
       "test            Linear Regression Ridge  \n",
       "test      Linear Regression Elastic Net  \n",
       "test        Polynomial Regression Lasso  \n",
       "test        Polynomial Regression Ridge  \n",
       "test  Polynomial Regression Elastic Net  "
      ]
     },
     "execution_count": 42,
     "metadata": {},
     "output_type": "execute_result"
    }
   ],
   "source": [
    "scores.loc['test']"
   ]
  }
 ],
 "metadata": {
  "kernelspec": {
   "display_name": "Python 3 (ipykernel)",
   "language": "python",
   "name": "python3"
  },
  "language_info": {
   "codemirror_mode": {
    "name": "ipython",
    "version": 3
   },
   "file_extension": ".py",
   "mimetype": "text/x-python",
   "name": "python",
   "nbconvert_exporter": "python",
   "pygments_lexer": "ipython3",
   "version": "3.10.14"
  }
 },
 "nbformat": 4,
 "nbformat_minor": 5
}
