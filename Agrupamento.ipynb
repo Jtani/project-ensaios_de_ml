{
 "cells": [
  {
   "cell_type": "markdown",
   "id": "6bdaa4f3-ea6f-4cdf-89f8-f9d1d98e9015",
   "metadata": {},
   "source": [
    "# Projeto Final - Fundamentos de Machine Learning\n",
    "# Modelos de Agrupamento"
   ]
  },
  {
   "cell_type": "markdown",
   "id": "5e758b29-81b2-4ef2-8ced-ff946cb7606d",
   "metadata": {},
   "source": [
    "# 0.0. Imports"
   ]
  },
  {
   "cell_type": "code",
   "execution_count": 79,
   "id": "6b4ab0c8-6940-470f-9a32-4f1cefee94da",
   "metadata": {
    "execution": {
     "iopub.execute_input": "2024-04-16T21:10:46.200648Z",
     "iopub.status.busy": "2024-04-16T21:10:46.200648Z",
     "iopub.status.idle": "2024-04-16T21:10:46.214650Z",
     "shell.execute_reply": "2024-04-16T21:10:46.213650Z",
     "shell.execute_reply.started": "2024-04-16T21:10:46.200648Z"
    }
   },
   "outputs": [],
   "source": [
    "import pandas as pd\n",
    "import numpy as np\n",
    "from sklearn.cluster import KMeans, AffinityPropagation\n",
    "from sklearn import metrics as mt\n",
    "from sklearn.model_selection import ParameterGrid\n",
    "import warnings\n",
    "warnings.filterwarnings('ignore')"
   ]
  },
  {
   "cell_type": "markdown",
   "id": "25ec4841-a22f-490e-bc5c-f3ec5bb92d52",
   "metadata": {},
   "source": [
    "## 0.1. Funções"
   ]
  },
  {
   "cell_type": "code",
   "execution_count": 80,
   "id": "5048742d-06eb-43f4-aa9c-47a6f987ef12",
   "metadata": {
    "execution": {
     "iopub.execute_input": "2024-04-16T21:21:42.210643Z",
     "iopub.status.busy": "2024-04-16T21:21:42.209642Z",
     "iopub.status.idle": "2024-04-16T21:21:42.224645Z",
     "shell.execute_reply": "2024-04-16T21:21:42.223644Z",
     "shell.execute_reply.started": "2024-04-16T21:21:42.210643Z"
    }
   },
   "outputs": [],
   "source": [
    "# Função para encontrarmos os melhores valores dos hyperparametros\n",
    "def search_best_params(x, algorithm, parameter_grid):\n",
    "    best_score = 0\n",
    "    best_params = {}\n",
    "    for params in parameter_grid:\n",
    "        model = algorithm(**params)\n",
    "        model.fit(x)\n",
    "        labels = model.predict(x)\n",
    "        current_metric = mt.silhouette_score(x, labels)\n",
    "        if current_metric > best_score:\n",
    "            best_score = current_metric\n",
    "            best_params = params\n",
    "            best_labels = labels\n",
    "    \n",
    "    return best_score, best_params"
   ]
  },
  {
   "cell_type": "markdown",
   "id": "c68323ff-37ed-468c-905a-5cc300f1b555",
   "metadata": {},
   "source": [
    "# 1.0. Loading Data"
   ]
  },
  {
   "cell_type": "code",
   "execution_count": 4,
   "id": "5142a73e-9459-48f7-9dbe-2c0ee21f3703",
   "metadata": {
    "execution": {
     "iopub.execute_input": "2024-04-16T13:52:21.960807Z",
     "iopub.status.busy": "2024-04-16T13:52:21.960807Z",
     "iopub.status.idle": "2024-04-16T13:52:21.982812Z",
     "shell.execute_reply": "2024-04-16T13:52:21.980811Z",
     "shell.execute_reply.started": "2024-04-16T13:52:21.960807Z"
    }
   },
   "outputs": [],
   "source": [
    "x = pd.read_csv('data/clusterizacao/X_dataset.csv')"
   ]
  },
  {
   "cell_type": "code",
   "execution_count": 5,
   "id": "55e3ad83-b68e-45da-8adc-3f6dfed39fd1",
   "metadata": {
    "execution": {
     "iopub.execute_input": "2024-04-16T13:52:25.206533Z",
     "iopub.status.busy": "2024-04-16T13:52:25.205532Z",
     "iopub.status.idle": "2024-04-16T13:52:25.242979Z",
     "shell.execute_reply": "2024-04-16T13:52:25.241978Z",
     "shell.execute_reply.started": "2024-04-16T13:52:25.206533Z"
    }
   },
   "outputs": [
    {
     "data": {
      "text/html": [
       "<div>\n",
       "<style scoped>\n",
       "    .dataframe tbody tr th:only-of-type {\n",
       "        vertical-align: middle;\n",
       "    }\n",
       "\n",
       "    .dataframe tbody tr th {\n",
       "        vertical-align: top;\n",
       "    }\n",
       "\n",
       "    .dataframe thead th {\n",
       "        text-align: right;\n",
       "    }\n",
       "</style>\n",
       "<table border=\"1\" class=\"dataframe\">\n",
       "  <thead>\n",
       "    <tr style=\"text-align: right;\">\n",
       "      <th></th>\n",
       "      <th>alcohol</th>\n",
       "      <th>malic_acid</th>\n",
       "      <th>ash</th>\n",
       "      <th>ash_alcanity</th>\n",
       "      <th>magnesium</th>\n",
       "      <th>total_phenols</th>\n",
       "      <th>flavanoids</th>\n",
       "      <th>nonflavanoid_phenols</th>\n",
       "      <th>proanthocyanins</th>\n",
       "      <th>color_intensity</th>\n",
       "      <th>hue</th>\n",
       "      <th>od280</th>\n",
       "      <th>proline</th>\n",
       "    </tr>\n",
       "  </thead>\n",
       "  <tbody>\n",
       "    <tr>\n",
       "      <th>0</th>\n",
       "      <td>1.518613</td>\n",
       "      <td>0.191700</td>\n",
       "      <td>0.232053</td>\n",
       "      <td>-1.169593</td>\n",
       "      <td>1.913905</td>\n",
       "      <td>0.627586</td>\n",
       "      <td>0.573840</td>\n",
       "      <td>-0.659563</td>\n",
       "      <td>1.224884</td>\n",
       "      <td>0.251717</td>\n",
       "      <td>0.455285</td>\n",
       "      <td>0.970696</td>\n",
       "      <td>0.561341</td>\n",
       "    </tr>\n",
       "    <tr>\n",
       "      <th>1</th>\n",
       "      <td>0.246290</td>\n",
       "      <td>0.205534</td>\n",
       "      <td>-0.827996</td>\n",
       "      <td>-2.490847</td>\n",
       "      <td>0.018145</td>\n",
       "      <td>0.575862</td>\n",
       "      <td>0.510549</td>\n",
       "      <td>-0.820719</td>\n",
       "      <td>-0.544721</td>\n",
       "      <td>-0.293321</td>\n",
       "      <td>0.463415</td>\n",
       "      <td>0.780220</td>\n",
       "      <td>0.550642</td>\n",
       "    </tr>\n",
       "    <tr>\n",
       "      <th>2</th>\n",
       "      <td>0.196879</td>\n",
       "      <td>0.320158</td>\n",
       "      <td>1.109334</td>\n",
       "      <td>-0.268738</td>\n",
       "      <td>0.088358</td>\n",
       "      <td>0.627586</td>\n",
       "      <td>0.611814</td>\n",
       "      <td>-0.498407</td>\n",
       "      <td>2.135968</td>\n",
       "      <td>0.269020</td>\n",
       "      <td>0.447154</td>\n",
       "      <td>0.695971</td>\n",
       "      <td>0.646933</td>\n",
       "    </tr>\n",
       "    <tr>\n",
       "      <th>3</th>\n",
       "      <td>1.691550</td>\n",
       "      <td>0.239130</td>\n",
       "      <td>0.487926</td>\n",
       "      <td>-0.809251</td>\n",
       "      <td>0.930918</td>\n",
       "      <td>0.989655</td>\n",
       "      <td>0.664557</td>\n",
       "      <td>-0.981875</td>\n",
       "      <td>1.032155</td>\n",
       "      <td>1.186068</td>\n",
       "      <td>0.308943</td>\n",
       "      <td>0.798535</td>\n",
       "      <td>0.857347</td>\n",
       "    </tr>\n",
       "    <tr>\n",
       "      <th>4</th>\n",
       "      <td>0.295700</td>\n",
       "      <td>0.365613</td>\n",
       "      <td>1.840403</td>\n",
       "      <td>0.451946</td>\n",
       "      <td>1.281985</td>\n",
       "      <td>0.627586</td>\n",
       "      <td>0.495781</td>\n",
       "      <td>0.226796</td>\n",
       "      <td>0.401404</td>\n",
       "      <td>-0.319276</td>\n",
       "      <td>0.455285</td>\n",
       "      <td>0.608059</td>\n",
       "      <td>0.325963</td>\n",
       "    </tr>\n",
       "  </tbody>\n",
       "</table>\n",
       "</div>"
      ],
      "text/plain": [
       "    alcohol  malic_acid       ash  ash_alcanity  magnesium  total_phenols  \\\n",
       "0  1.518613    0.191700  0.232053     -1.169593   1.913905       0.627586   \n",
       "1  0.246290    0.205534 -0.827996     -2.490847   0.018145       0.575862   \n",
       "2  0.196879    0.320158  1.109334     -0.268738   0.088358       0.627586   \n",
       "3  1.691550    0.239130  0.487926     -0.809251   0.930918       0.989655   \n",
       "4  0.295700    0.365613  1.840403      0.451946   1.281985       0.627586   \n",
       "\n",
       "   flavanoids  nonflavanoid_phenols  proanthocyanins  color_intensity  \\\n",
       "0    0.573840             -0.659563         1.224884         0.251717   \n",
       "1    0.510549             -0.820719        -0.544721        -0.293321   \n",
       "2    0.611814             -0.498407         2.135968         0.269020   \n",
       "3    0.664557             -0.981875         1.032155         1.186068   \n",
       "4    0.495781              0.226796         0.401404        -0.319276   \n",
       "\n",
       "        hue     od280   proline  \n",
       "0  0.455285  0.970696  0.561341  \n",
       "1  0.463415  0.780220  0.550642  \n",
       "2  0.447154  0.695971  0.646933  \n",
       "3  0.308943  0.798535  0.857347  \n",
       "4  0.455285  0.608059  0.325963  "
      ]
     },
     "execution_count": 5,
     "metadata": {},
     "output_type": "execute_result"
    }
   ],
   "source": [
    "x.head()"
   ]
  },
  {
   "cell_type": "markdown",
   "id": "0a794a83-ae0a-4be0-ac3f-0f43e1332a8f",
   "metadata": {},
   "source": [
    "# 2.0. Ensaios"
   ]
  },
  {
   "cell_type": "markdown",
   "id": "d599c91b-bf07-4109-adb7-3570394e8827",
   "metadata": {},
   "source": [
    "## 2.1. K-means"
   ]
  },
  {
   "cell_type": "code",
   "execution_count": 46,
   "id": "281447ef-9471-4f9c-87aa-bf2dfd15fab7",
   "metadata": {
    "execution": {
     "iopub.execute_input": "2024-04-16T15:28:35.066609Z",
     "iopub.status.busy": "2024-04-16T15:28:35.065609Z",
     "iopub.status.idle": "2024-04-16T15:28:35.184636Z",
     "shell.execute_reply": "2024-04-16T15:28:35.183635Z",
     "shell.execute_reply.started": "2024-04-16T15:28:35.066609Z"
    }
   },
   "outputs": [
    {
     "data": {
      "text/plain": [
       "(0.23157240499717635, {'n_clusters': 3, 'random_state': 0})"
      ]
     },
     "execution_count": 46,
     "metadata": {},
     "output_type": "execute_result"
    }
   ],
   "source": [
    "kmeans_params = ParameterGrid({\n",
    "    'n_clusters' : np.arange(2,10,1),\n",
    "    'random_state' : [0]\n",
    "})\n",
    "kmeans_scores = search_best_params(x, KMeans, kmeans_params)\n",
    "kmeans_scores"
   ]
  },
  {
   "cell_type": "markdown",
   "id": "1d305381-2d62-4ed0-baff-ba5e34de2139",
   "metadata": {},
   "source": [
    "## 2.2. Affinity Propagation"
   ]
  },
  {
   "cell_type": "code",
   "execution_count": 70,
   "id": "4948b89d",
   "metadata": {
    "execution": {
     "iopub.execute_input": "2024-04-16T16:16:48.367033Z",
     "iopub.status.busy": "2024-04-16T16:16:48.367033Z",
     "iopub.status.idle": "2024-04-16T16:16:49.981399Z",
     "shell.execute_reply": "2024-04-16T16:16:49.980399Z",
     "shell.execute_reply.started": "2024-04-16T16:16:48.367033Z"
    }
   },
   "outputs": [
    {
     "data": {
      "text/plain": [
       "(0.20365750456597356, {'preference': -47, 'random_state': 0})"
      ]
     },
     "execution_count": 70,
     "metadata": {},
     "output_type": "execute_result"
    }
   ],
   "source": [
    "afprop_params = ParameterGrid({\n",
    "    'preference' : np.arange(-100,0,1),\n",
    "    'random_state' : [0]\n",
    "})\n",
    "afprop_scores = search_best_params(x, AffinityPropagation, afprop_params)\n",
    "afprop_scores"
   ]
  },
  {
   "cell_type": "code",
   "execution_count": 72,
   "id": "be604162-d97f-457e-8d83-260516e15095",
   "metadata": {
    "execution": {
     "iopub.execute_input": "2024-04-16T16:17:21.503010Z",
     "iopub.status.busy": "2024-04-16T16:17:21.502011Z",
     "iopub.status.idle": "2024-04-16T16:17:21.514014Z",
     "shell.execute_reply": "2024-04-16T16:17:21.513013Z",
     "shell.execute_reply.started": "2024-04-16T16:17:21.503010Z"
    }
   },
   "outputs": [
    {
     "data": {
      "text/plain": [
       "0.20365750456597356"
      ]
     },
     "execution_count": 72,
     "metadata": {},
     "output_type": "execute_result"
    }
   ],
   "source": [
    "afprop_scores[0]"
   ]
  },
  {
   "cell_type": "markdown",
   "id": "86932123-c2ab-4144-9aa3-95428410884b",
   "metadata": {},
   "source": [
    "# 3.0. Comparação dos modelos"
   ]
  },
  {
   "cell_type": "code",
   "execution_count": 78,
   "id": "8379d8c2-9d86-4205-be4e-2489d54b02b5",
   "metadata": {
    "execution": {
     "iopub.execute_input": "2024-04-16T16:59:11.637990Z",
     "iopub.status.busy": "2024-04-16T16:59:11.637990Z",
     "iopub.status.idle": "2024-04-16T16:59:11.646992Z",
     "shell.execute_reply": "2024-04-16T16:59:11.646992Z",
     "shell.execute_reply.started": "2024-04-16T16:59:11.637990Z"
    }
   },
   "outputs": [
    {
     "data": {
      "text/html": [
       "<div>\n",
       "<style scoped>\n",
       "    .dataframe tbody tr th:only-of-type {\n",
       "        vertical-align: middle;\n",
       "    }\n",
       "\n",
       "    .dataframe tbody tr th {\n",
       "        vertical-align: top;\n",
       "    }\n",
       "\n",
       "    .dataframe thead th {\n",
       "        text-align: right;\n",
       "    }\n",
       "</style>\n",
       "<table border=\"1\" class=\"dataframe\">\n",
       "  <thead>\n",
       "    <tr style=\"text-align: right;\">\n",
       "      <th></th>\n",
       "      <th>Silhouette Score</th>\n",
       "    </tr>\n",
       "  </thead>\n",
       "  <tbody>\n",
       "    <tr>\n",
       "      <th>K-Means</th>\n",
       "      <td>0.231572</td>\n",
       "    </tr>\n",
       "    <tr>\n",
       "      <th>Affinity Propagation</th>\n",
       "      <td>0.203658</td>\n",
       "    </tr>\n",
       "  </tbody>\n",
       "</table>\n",
       "</div>"
      ],
      "text/plain": [
       "                      Silhouette Score\n",
       "K-Means                       0.231572\n",
       "Affinity Propagation          0.203658"
      ]
     },
     "execution_count": 78,
     "metadata": {},
     "output_type": "execute_result"
    }
   ],
   "source": [
    "pd.DataFrame([kmeans_scores[0], afprop_scores[0]], columns=['Silhouette Score'], index = ['K-Means', 'Affinity Propagation'])"
   ]
  }
 ],
 "metadata": {
  "kernelspec": {
   "display_name": "Python 3 (ipykernel)",
   "language": "python",
   "name": "python3"
  },
  "language_info": {
   "codemirror_mode": {
    "name": "ipython",
    "version": 3
   },
   "file_extension": ".py",
   "mimetype": "text/x-python",
   "name": "python",
   "nbconvert_exporter": "python",
   "pygments_lexer": "ipython3",
   "version": "3.10.14"
  }
 },
 "nbformat": 4,
 "nbformat_minor": 5
}
