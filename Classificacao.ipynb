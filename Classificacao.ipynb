{
 "cells": [
  {
   "cell_type": "markdown",
   "id": "c942f0e3-470c-435d-a247-66969f4a37bf",
   "metadata": {},
   "source": [
    "# Projeto Final - Fundamentos de Machine Learning\n",
    "## Modelos de Classificação"
   ]
  },
  {
   "cell_type": "markdown",
   "id": "380a1219-71a5-4f38-8c39-b3a775e7d40b",
   "metadata": {},
   "source": [
    "# 0.0. Imports"
   ]
  },
  {
   "cell_type": "code",
   "execution_count": 130,
   "id": "75ed47e9-04f1-4ae6-ab03-73db964ef8b0",
   "metadata": {
    "ExecuteTime": {
     "end_time": "2024-01-05T01:08:01.298031Z",
     "start_time": "2024-01-05T01:07:54.401236Z"
    },
    "execution": {
     "iopub.execute_input": "2024-04-15T20:01:37.493615Z",
     "iopub.status.busy": "2024-04-15T20:01:37.492616Z",
     "iopub.status.idle": "2024-04-15T20:01:37.502617Z",
     "shell.execute_reply": "2024-04-15T20:01:37.501617Z",
     "shell.execute_reply.started": "2024-04-15T20:01:37.493615Z"
    }
   },
   "outputs": [],
   "source": [
    "import pandas as pd\n",
    "import numpy as np\n",
    "from sklearn.neighbors import KNeighborsClassifier\n",
    "from sklearn.tree import DecisionTreeClassifier\n",
    "from sklearn.ensemble import RandomForestClassifier\n",
    "from sklearn.linear_model import LogisticRegression\n",
    "from sklearn.model_selection import ParameterGrid\n",
    "from sklearn import metrics as mt\n",
    "import matplotlib.pyplot as plt"
   ]
  },
  {
   "cell_type": "markdown",
   "id": "f381a04c-d0fe-48b8-929c-28032fe37a45",
   "metadata": {},
   "source": [
    "# 0.1. Funções"
   ]
  },
  {
   "cell_type": "code",
   "execution_count": 156,
   "id": "63c49c05-54a8-4ef1-a44b-b2845fc8e854",
   "metadata": {
    "execution": {
     "iopub.execute_input": "2024-04-15T21:12:09.036018Z",
     "iopub.status.busy": "2024-04-15T21:12:09.035018Z",
     "iopub.status.idle": "2024-04-15T21:12:09.054023Z",
     "shell.execute_reply": "2024-04-15T21:12:09.053023Z",
     "shell.execute_reply.started": "2024-04-15T21:12:09.036018Z"
    }
   },
   "outputs": [],
   "source": [
    "def get_metrics(y, y_pred):\n",
    "    scores = pd.DataFrame({\n",
    "        'accuracy': [mt.accuracy_score(y, y_pred)], \n",
    "        'precision' : [mt.precision_score(y, y_pred)],\n",
    "        'recall': [mt.recall_score(y, y_pred)], \n",
    "        'f1': [mt.f1_score(y, y_pred)]\n",
    "    })\n",
    "    return scores\n",
    "\n",
    "def get_score_table(scores_train, scores_val, scores_test):\n",
    "    score_comp = pd.concat([scores_train, scores_val, scores_test])\n",
    "    score_comp.index = ['train', 'validation', 'test']\n",
    "    return score_comp\n",
    "\n",
    "def search_best_params(x_train, y_train, x_val, y_val, algorithm, parameter_grid):\n",
    "    # DataFrame for storing metrics for each parameter set\n",
    "    best_accuracy = 0\n",
    "    best_params = {}\n",
    "    # Iterate over each set of parameters in the grid\n",
    "    for params in parameter_grid:\n",
    "        # Create and fit the model with the current set of parameters\n",
    "        model = algorithm(**params)\n",
    "        model.fit(x_train, y_train.values.ravel())\n",
    "        # Predict using the validation set\n",
    "        y_pred_val = model.predict(x_val)\n",
    "        # Get metrics and convert to DataFrame\n",
    "        current_metrics = get_metrics(y_val, y_pred_val)\n",
    "        current_accuracy = current_metrics['accuracy'].iloc[0]\n",
    "        if current_accuracy > best_accuracy:\n",
    "            best_accuracy = current_accuracy\n",
    "            best_params = params\n",
    "    \n",
    "    return best_accuracy, best_params\n",
    "\n",
    "def modeling(x_train, y_train, x_val, y_val, x_test, y_test, algorithm, parameters):\n",
    "    model = algorithm(**parameters).fit(x_train, y_train.values.ravel())\n",
    "    y_pred_train = model.predict(x_train)\n",
    "    y_pred_val = model.predict(x_val)\n",
    "    y_pred_test = model.predict(x_test)\n",
    "\n",
    "    scores_train = get_metrics(y_train, y_pred_train)\n",
    "    scores_val = get_metrics(y_val, y_pred_val)\n",
    "    scores_test = get_metrics(y_test, y_pred_test)\n",
    "    scores = get_score_table(scores_train, scores_val, scores_test)\n",
    "\n",
    "    return scores"
   ]
  },
  {
   "cell_type": "markdown",
   "id": "d0f1c046-ae8b-4989-b7da-74661cfbe9b1",
   "metadata": {},
   "source": [
    "# 1.0 Loading Data"
   ]
  },
  {
   "cell_type": "code",
   "execution_count": 132,
   "id": "eb5bb404-0e00-4023-9b8e-d86f759b3e2f",
   "metadata": {
    "ExecuteTime": {
     "end_time": "2024-01-05T01:08:01.631368Z",
     "start_time": "2024-01-05T01:08:01.301034Z"
    },
    "execution": {
     "iopub.execute_input": "2024-04-15T20:01:37.519620Z",
     "iopub.status.busy": "2024-04-15T20:01:37.519620Z",
     "iopub.status.idle": "2024-04-15T20:01:37.898706Z",
     "shell.execute_reply": "2024-04-15T20:01:37.897706Z",
     "shell.execute_reply.started": "2024-04-15T20:01:37.519620Z"
    }
   },
   "outputs": [],
   "source": [
    "x_train = pd.read_csv('data/classificacao/X_training.csv')\n",
    "y_train = pd.read_csv('data/classificacao/y_training.csv')\n",
    "\n",
    "x_val = pd.read_csv('data/classificacao/X_validation.csv')\n",
    "y_val = pd.read_csv('data/classificacao/y_validation.csv')\n",
    "\n",
    "x_test = pd.read_csv('data/classificacao/X_test.csv')\n",
    "y_test = pd.read_csv('data/classificacao/y_test.csv')"
   ]
  },
  {
   "cell_type": "code",
   "execution_count": 133,
   "id": "8db470fe-e52b-4fe6-b235-d0ea72eda98d",
   "metadata": {
    "ExecuteTime": {
     "end_time": "2024-01-05T02:36:48.093050Z",
     "start_time": "2024-01-05T02:36:48.052390Z"
    },
    "execution": {
     "iopub.execute_input": "2024-04-15T20:01:37.899706Z",
     "iopub.status.busy": "2024-04-15T20:01:37.899706Z",
     "iopub.status.idle": "2024-04-15T20:01:37.930715Z",
     "shell.execute_reply": "2024-04-15T20:01:37.929715Z",
     "shell.execute_reply.started": "2024-04-15T20:01:37.899706Z"
    }
   },
   "outputs": [
    {
     "data": {
      "text/html": [
       "<div>\n",
       "<style scoped>\n",
       "    .dataframe tbody tr th:only-of-type {\n",
       "        vertical-align: middle;\n",
       "    }\n",
       "\n",
       "    .dataframe tbody tr th {\n",
       "        vertical-align: top;\n",
       "    }\n",
       "\n",
       "    .dataframe thead th {\n",
       "        text-align: right;\n",
       "    }\n",
       "</style>\n",
       "<table border=\"1\" class=\"dataframe\">\n",
       "  <thead>\n",
       "    <tr style=\"text-align: right;\">\n",
       "      <th></th>\n",
       "      <th>id</th>\n",
       "      <th>customer_type</th>\n",
       "      <th>age</th>\n",
       "      <th>class</th>\n",
       "      <th>flight_distance</th>\n",
       "      <th>inflight_wifi_service</th>\n",
       "      <th>departure_arrival_time_convenient</th>\n",
       "      <th>ease_of_online_booking</th>\n",
       "      <th>gate_location</th>\n",
       "      <th>food_and_drink</th>\n",
       "      <th>...</th>\n",
       "      <th>baggage_handling</th>\n",
       "      <th>checkin_service</th>\n",
       "      <th>inflight_service</th>\n",
       "      <th>cleanliness</th>\n",
       "      <th>departure_delay_in_minutes</th>\n",
       "      <th>arrival_delay_in_minutes</th>\n",
       "      <th>gender_Female</th>\n",
       "      <th>gender_Male</th>\n",
       "      <th>type_of_travel_business_travel</th>\n",
       "      <th>type_of_travel_personal_travel</th>\n",
       "    </tr>\n",
       "  </thead>\n",
       "  <tbody>\n",
       "    <tr>\n",
       "      <th>0</th>\n",
       "      <td>13508</td>\n",
       "      <td>1</td>\n",
       "      <td>0.500000</td>\n",
       "      <td>0.0</td>\n",
       "      <td>0.039580</td>\n",
       "      <td>0.6</td>\n",
       "      <td>0.6</td>\n",
       "      <td>0.6</td>\n",
       "      <td>0.6</td>\n",
       "      <td>1.0</td>\n",
       "      <td>...</td>\n",
       "      <td>0.5</td>\n",
       "      <td>1.00</td>\n",
       "      <td>0.6</td>\n",
       "      <td>0.4</td>\n",
       "      <td>0.000000</td>\n",
       "      <td>0.013848</td>\n",
       "      <td>1.0</td>\n",
       "      <td>0.0</td>\n",
       "      <td>1.0</td>\n",
       "      <td>0.0</td>\n",
       "    </tr>\n",
       "    <tr>\n",
       "      <th>1</th>\n",
       "      <td>28874</td>\n",
       "      <td>1</td>\n",
       "      <td>0.243590</td>\n",
       "      <td>0.0</td>\n",
       "      <td>0.205775</td>\n",
       "      <td>0.6</td>\n",
       "      <td>0.4</td>\n",
       "      <td>0.4</td>\n",
       "      <td>0.4</td>\n",
       "      <td>0.6</td>\n",
       "      <td>...</td>\n",
       "      <td>0.5</td>\n",
       "      <td>0.50</td>\n",
       "      <td>0.2</td>\n",
       "      <td>0.6</td>\n",
       "      <td>0.000000</td>\n",
       "      <td>0.000000</td>\n",
       "      <td>0.0</td>\n",
       "      <td>1.0</td>\n",
       "      <td>1.0</td>\n",
       "      <td>0.0</td>\n",
       "    </tr>\n",
       "    <tr>\n",
       "      <th>2</th>\n",
       "      <td>21484</td>\n",
       "      <td>0</td>\n",
       "      <td>0.435897</td>\n",
       "      <td>1.0</td>\n",
       "      <td>0.026858</td>\n",
       "      <td>0.6</td>\n",
       "      <td>0.6</td>\n",
       "      <td>0.6</td>\n",
       "      <td>0.2</td>\n",
       "      <td>1.0</td>\n",
       "      <td>...</td>\n",
       "      <td>0.0</td>\n",
       "      <td>1.00</td>\n",
       "      <td>0.6</td>\n",
       "      <td>1.0</td>\n",
       "      <td>0.000000</td>\n",
       "      <td>0.000000</td>\n",
       "      <td>1.0</td>\n",
       "      <td>0.0</td>\n",
       "      <td>1.0</td>\n",
       "      <td>0.0</td>\n",
       "    </tr>\n",
       "    <tr>\n",
       "      <th>3</th>\n",
       "      <td>48280</td>\n",
       "      <td>1</td>\n",
       "      <td>0.589744</td>\n",
       "      <td>0.5</td>\n",
       "      <td>0.041397</td>\n",
       "      <td>0.6</td>\n",
       "      <td>1.0</td>\n",
       "      <td>0.6</td>\n",
       "      <td>0.6</td>\n",
       "      <td>0.8</td>\n",
       "      <td>...</td>\n",
       "      <td>0.0</td>\n",
       "      <td>1.00</td>\n",
       "      <td>0.4</td>\n",
       "      <td>0.4</td>\n",
       "      <td>0.029499</td>\n",
       "      <td>0.020772</td>\n",
       "      <td>1.0</td>\n",
       "      <td>0.0</td>\n",
       "      <td>0.0</td>\n",
       "      <td>1.0</td>\n",
       "    </tr>\n",
       "    <tr>\n",
       "      <th>4</th>\n",
       "      <td>472</td>\n",
       "      <td>0</td>\n",
       "      <td>0.423077</td>\n",
       "      <td>1.0</td>\n",
       "      <td>0.016559</td>\n",
       "      <td>0.2</td>\n",
       "      <td>0.2</td>\n",
       "      <td>0.2</td>\n",
       "      <td>0.8</td>\n",
       "      <td>0.6</td>\n",
       "      <td>...</td>\n",
       "      <td>1.0</td>\n",
       "      <td>0.75</td>\n",
       "      <td>0.8</td>\n",
       "      <td>0.6</td>\n",
       "      <td>0.021632</td>\n",
       "      <td>0.019782</td>\n",
       "      <td>0.0</td>\n",
       "      <td>1.0</td>\n",
       "      <td>1.0</td>\n",
       "      <td>0.0</td>\n",
       "    </tr>\n",
       "  </tbody>\n",
       "</table>\n",
       "<p>5 rows × 25 columns</p>\n",
       "</div>"
      ],
      "text/plain": [
       "      id  customer_type       age  class  flight_distance  \\\n",
       "0  13508              1  0.500000    0.0         0.039580   \n",
       "1  28874              1  0.243590    0.0         0.205775   \n",
       "2  21484              0  0.435897    1.0         0.026858   \n",
       "3  48280              1  0.589744    0.5         0.041397   \n",
       "4    472              0  0.423077    1.0         0.016559   \n",
       "\n",
       "   inflight_wifi_service  departure_arrival_time_convenient  \\\n",
       "0                    0.6                                0.6   \n",
       "1                    0.6                                0.4   \n",
       "2                    0.6                                0.6   \n",
       "3                    0.6                                1.0   \n",
       "4                    0.2                                0.2   \n",
       "\n",
       "   ease_of_online_booking  gate_location  food_and_drink  ...  \\\n",
       "0                     0.6            0.6             1.0  ...   \n",
       "1                     0.4            0.4             0.6  ...   \n",
       "2                     0.6            0.2             1.0  ...   \n",
       "3                     0.6            0.6             0.8  ...   \n",
       "4                     0.2            0.8             0.6  ...   \n",
       "\n",
       "   baggage_handling  checkin_service  inflight_service  cleanliness  \\\n",
       "0               0.5             1.00               0.6          0.4   \n",
       "1               0.5             0.50               0.2          0.6   \n",
       "2               0.0             1.00               0.6          1.0   \n",
       "3               0.0             1.00               0.4          0.4   \n",
       "4               1.0             0.75               0.8          0.6   \n",
       "\n",
       "   departure_delay_in_minutes  arrival_delay_in_minutes  gender_Female  \\\n",
       "0                    0.000000                  0.013848            1.0   \n",
       "1                    0.000000                  0.000000            0.0   \n",
       "2                    0.000000                  0.000000            1.0   \n",
       "3                    0.029499                  0.020772            1.0   \n",
       "4                    0.021632                  0.019782            0.0   \n",
       "\n",
       "   gender_Male  type_of_travel_business_travel  type_of_travel_personal_travel  \n",
       "0          0.0                             1.0                             0.0  \n",
       "1          1.0                             1.0                             0.0  \n",
       "2          0.0                             1.0                             0.0  \n",
       "3          0.0                             0.0                             1.0  \n",
       "4          1.0                             1.0                             0.0  \n",
       "\n",
       "[5 rows x 25 columns]"
      ]
     },
     "execution_count": 133,
     "metadata": {},
     "output_type": "execute_result"
    }
   ],
   "source": [
    "x_train.head()"
   ]
  },
  {
   "cell_type": "code",
   "execution_count": 134,
   "id": "8712d116-e058-44a2-8d4e-79a4fbc8d031",
   "metadata": {
    "ExecuteTime": {
     "end_time": "2024-01-05T01:08:01.709995Z",
     "start_time": "2024-01-05T01:08:01.681842Z"
    },
    "execution": {
     "iopub.execute_input": "2024-04-15T20:01:37.933716Z",
     "iopub.status.busy": "2024-04-15T20:01:37.933716Z",
     "iopub.status.idle": "2024-04-15T20:01:37.962721Z",
     "shell.execute_reply": "2024-04-15T20:01:37.961720Z",
     "shell.execute_reply.started": "2024-04-15T20:01:37.933716Z"
    }
   },
   "outputs": [],
   "source": [
    "# excluindo a coluna 'id' por não ser uma variável relevante\n",
    "x_train.drop('id', axis=1, inplace=True)\n",
    "x_val.drop('id', axis=1, inplace=True)\n",
    "x_test.drop('id', axis=1, inplace=True)"
   ]
  },
  {
   "cell_type": "markdown",
   "id": "9a0c7141-c57e-4a88-8a09-7aa0eab5f302",
   "metadata": {},
   "source": [
    "# 2.0 Ensaios"
   ]
  },
  {
   "cell_type": "markdown",
   "id": "9b091998-d237-4aff-b52f-9b65e15dd167",
   "metadata": {},
   "source": [
    "## 2.1. KNN (K-Nearest Neighbor)"
   ]
  },
  {
   "cell_type": "code",
   "execution_count": 135,
   "id": "62aa6d5a-985c-47c0-9d6d-9547f82d6ce3",
   "metadata": {
    "execution": {
     "iopub.execute_input": "2024-04-15T20:01:37.964721Z",
     "iopub.status.busy": "2024-04-15T20:01:37.963720Z",
     "iopub.status.idle": "2024-04-15T20:02:58.365481Z",
     "shell.execute_reply": "2024-04-15T20:02:58.364478Z",
     "shell.execute_reply.started": "2024-04-15T20:01:37.964721Z"
    }
   },
   "outputs": [],
   "source": [
    "# Parametros \n",
    "knn_param = ParameterGrid({\n",
    "    'n_neighbors' : np.arange(2,20,1)\n",
    "})\n",
    "\n",
    "best_score_knn = search_best_params(x_train, y_train, x_val, y_val, KNeighborsClassifier, knn_param)"
   ]
  },
  {
   "cell_type": "code",
   "execution_count": 136,
   "id": "4df7ae67-428c-4ebd-bec7-8f661b3568a9",
   "metadata": {
    "execution": {
     "iopub.execute_input": "2024-04-15T20:02:58.366481Z",
     "iopub.status.busy": "2024-04-15T20:02:58.366481Z",
     "iopub.status.idle": "2024-04-15T20:02:58.381486Z",
     "shell.execute_reply": "2024-04-15T20:02:58.379485Z",
     "shell.execute_reply.started": "2024-04-15T20:02:58.366481Z"
    }
   },
   "outputs": [
    {
     "name": "stdout",
     "output_type": "stream",
     "text": [
      "Melhor acurácia é: 0.9265098619646707 com melhor k = 15\n"
     ]
    }
   ],
   "source": [
    "best_accuracy = best_score_knn[0]\n",
    "best_k = list(best_score_knn[1].values())[0]\n",
    "print('Melhor acurácia é: {} com melhor k = {}'.format(best_accuracy, best_k))"
   ]
  },
  {
   "cell_type": "code",
   "execution_count": 137,
   "id": "b47d5bc5-b1a8-44ec-a0a8-3b64ca970701",
   "metadata": {
    "execution": {
     "iopub.execute_input": "2024-04-15T20:02:58.383486Z",
     "iopub.status.busy": "2024-04-15T20:02:58.382485Z",
     "iopub.status.idle": "2024-04-15T20:03:17.455777Z",
     "shell.execute_reply": "2024-04-15T20:03:17.455777Z",
     "shell.execute_reply.started": "2024-04-15T20:02:58.383486Z"
    }
   },
   "outputs": [
    {
     "data": {
      "text/html": [
       "<div>\n",
       "<style scoped>\n",
       "    .dataframe tbody tr th:only-of-type {\n",
       "        vertical-align: middle;\n",
       "    }\n",
       "\n",
       "    .dataframe tbody tr th {\n",
       "        vertical-align: top;\n",
       "    }\n",
       "\n",
       "    .dataframe thead th {\n",
       "        text-align: right;\n",
       "    }\n",
       "</style>\n",
       "<table border=\"1\" class=\"dataframe\">\n",
       "  <thead>\n",
       "    <tr style=\"text-align: right;\">\n",
       "      <th></th>\n",
       "      <th>accuracy</th>\n",
       "      <th>precision</th>\n",
       "      <th>recall</th>\n",
       "      <th>f1</th>\n",
       "      <th>model_name</th>\n",
       "    </tr>\n",
       "  </thead>\n",
       "  <tbody>\n",
       "    <tr>\n",
       "      <th>train</th>\n",
       "      <td>0.934055</td>\n",
       "      <td>0.964572</td>\n",
       "      <td>0.880171</td>\n",
       "      <td>0.920441</td>\n",
       "      <td>KNN</td>\n",
       "    </tr>\n",
       "    <tr>\n",
       "      <th>validation</th>\n",
       "      <td>0.926510</td>\n",
       "      <td>0.957389</td>\n",
       "      <td>0.869107</td>\n",
       "      <td>0.911115</td>\n",
       "      <td>KNN</td>\n",
       "    </tr>\n",
       "    <tr>\n",
       "      <th>test</th>\n",
       "      <td>0.924999</td>\n",
       "      <td>0.955173</td>\n",
       "      <td>0.869952</td>\n",
       "      <td>0.910573</td>\n",
       "      <td>KNN</td>\n",
       "    </tr>\n",
       "  </tbody>\n",
       "</table>\n",
       "</div>"
      ],
      "text/plain": [
       "            accuracy  precision    recall        f1 model_name\n",
       "train       0.934055   0.964572  0.880171  0.920441        KNN\n",
       "validation  0.926510   0.957389  0.869107  0.911115        KNN\n",
       "test        0.924999   0.955173  0.869952  0.910573        KNN"
      ]
     },
     "execution_count": 137,
     "metadata": {},
     "output_type": "execute_result"
    }
   ],
   "source": [
    "best_param_knn = {'n_neighbors' : best_k}\n",
    "knn_scores = modeling(x_train, y_train, x_val, y_val, x_test, y_test, KNeighborsClassifier, best_param_knn)\n",
    "knn_scores['model_name'] = 'KNN'\n",
    "knn_scores"
   ]
  },
  {
   "cell_type": "markdown",
   "id": "9d7f8f05-0c1a-474b-89a0-1bccf59d052d",
   "metadata": {},
   "source": [
    "## 2.2. Decision Tree"
   ]
  },
  {
   "cell_type": "code",
   "execution_count": 138,
   "id": "1375a6c5-1d1e-401a-a8e4-9bb336b15c0d",
   "metadata": {
    "execution": {
     "iopub.execute_input": "2024-04-15T20:03:17.457777Z",
     "iopub.status.busy": "2024-04-15T20:03:17.457777Z",
     "iopub.status.idle": "2024-04-15T20:03:39.551858Z",
     "shell.execute_reply": "2024-04-15T20:03:39.550858Z",
     "shell.execute_reply.started": "2024-04-15T20:03:17.457777Z"
    }
   },
   "outputs": [],
   "source": [
    "dt_param = ParameterGrid({\n",
    "    'max_depth' : np.arange(1,50,1)\n",
    "})\n",
    "best_score_dt = search_best_params(x_train, y_train, x_val, y_val, DecisionTreeClassifier, dt_param)"
   ]
  },
  {
   "cell_type": "code",
   "execution_count": 139,
   "id": "d2ef53b5-a2ef-4f74-88af-c5c70308a7c4",
   "metadata": {
    "execution": {
     "iopub.execute_input": "2024-04-15T20:03:39.552857Z",
     "iopub.status.busy": "2024-04-15T20:03:39.552857Z",
     "iopub.status.idle": "2024-04-15T20:03:39.567861Z",
     "shell.execute_reply": "2024-04-15T20:03:39.566861Z",
     "shell.execute_reply.started": "2024-04-15T20:03:39.552857Z"
    }
   },
   "outputs": [
    {
     "name": "stdout",
     "output_type": "stream",
     "text": [
      "Melhor acurácia é: 0.9508027928826539 com melhor max_depth = 14\n"
     ]
    }
   ],
   "source": [
    "best_accuracy_tree = best_score_dt[0]\n",
    "best_depth_tree = list(best_score_dt[1].values())[0]\n",
    "print('Melhor acurácia é: {} com melhor max_depth = {}'.format(best_accuracy_tree, best_depth_tree))"
   ]
  },
  {
   "cell_type": "code",
   "execution_count": 140,
   "id": "c7ebb9f9-aa16-42fb-931e-b058efc3def5",
   "metadata": {
    "execution": {
     "iopub.execute_input": "2024-04-15T20:03:39.569864Z",
     "iopub.status.busy": "2024-04-15T20:03:39.569864Z",
     "iopub.status.idle": "2024-04-15T20:03:40.189554Z",
     "shell.execute_reply": "2024-04-15T20:03:40.188554Z",
     "shell.execute_reply.started": "2024-04-15T20:03:39.569864Z"
    }
   },
   "outputs": [
    {
     "data": {
      "text/html": [
       "<div>\n",
       "<style scoped>\n",
       "    .dataframe tbody tr th:only-of-type {\n",
       "        vertical-align: middle;\n",
       "    }\n",
       "\n",
       "    .dataframe tbody tr th {\n",
       "        vertical-align: top;\n",
       "    }\n",
       "\n",
       "    .dataframe thead th {\n",
       "        text-align: right;\n",
       "    }\n",
       "</style>\n",
       "<table border=\"1\" class=\"dataframe\">\n",
       "  <thead>\n",
       "    <tr style=\"text-align: right;\">\n",
       "      <th></th>\n",
       "      <th>accuracy</th>\n",
       "      <th>precision</th>\n",
       "      <th>recall</th>\n",
       "      <th>f1</th>\n",
       "      <th>model_name</th>\n",
       "    </tr>\n",
       "  </thead>\n",
       "  <tbody>\n",
       "    <tr>\n",
       "      <th>train</th>\n",
       "      <td>0.973716</td>\n",
       "      <td>0.981976</td>\n",
       "      <td>0.956917</td>\n",
       "      <td>0.969285</td>\n",
       "      <td>Decision Tree</td>\n",
       "    </tr>\n",
       "    <tr>\n",
       "      <th>validation</th>\n",
       "      <td>0.950545</td>\n",
       "      <td>0.953688</td>\n",
       "      <td>0.931101</td>\n",
       "      <td>0.942259</td>\n",
       "      <td>Decision Tree</td>\n",
       "    </tr>\n",
       "    <tr>\n",
       "      <th>test</th>\n",
       "      <td>0.951609</td>\n",
       "      <td>0.955906</td>\n",
       "      <td>0.932776</td>\n",
       "      <td>0.944200</td>\n",
       "      <td>Decision Tree</td>\n",
       "    </tr>\n",
       "  </tbody>\n",
       "</table>\n",
       "</div>"
      ],
      "text/plain": [
       "            accuracy  precision    recall        f1     model_name\n",
       "train       0.973716   0.981976  0.956917  0.969285  Decision Tree\n",
       "validation  0.950545   0.953688  0.931101  0.942259  Decision Tree\n",
       "test        0.951609   0.955906  0.932776  0.944200  Decision Tree"
      ]
     },
     "execution_count": 140,
     "metadata": {},
     "output_type": "execute_result"
    }
   ],
   "source": [
    "best_params_dt = {'max_depth' : best_depth_tree}\n",
    "dt_scores = modeling(x_train, y_train, x_val, y_val, x_test, y_test, DecisionTreeClassifier, best_params_dt)\n",
    "dt_scores['model_name'] = 'Decision Tree'\n",
    "dt_scores"
   ]
  },
  {
   "cell_type": "markdown",
   "id": "00a89f25-bd38-4436-89fe-2e9cf7f98309",
   "metadata": {},
   "source": [
    "## 2.3. Random Forest"
   ]
  },
  {
   "cell_type": "code",
   "execution_count": 141,
   "id": "cfc3f61b-b74b-4556-b05b-1fa26b5a90ae",
   "metadata": {
    "execution": {
     "iopub.execute_input": "2024-04-15T20:03:40.191555Z",
     "iopub.status.busy": "2024-04-15T20:03:40.190554Z",
     "iopub.status.idle": "2024-04-15T20:04:33.005440Z",
     "shell.execute_reply": "2024-04-15T20:04:33.004439Z",
     "shell.execute_reply.started": "2024-04-15T20:03:40.191555Z"
    }
   },
   "outputs": [
    {
     "data": {
      "text/plain": [
       "(0.9619357122172528, {'max_depth': 19, 'n_estimators': 100})"
      ]
     },
     "execution_count": 141,
     "metadata": {},
     "output_type": "execute_result"
    }
   ],
   "source": [
    "rf_param = ParameterGrid({\n",
    "    'n_estimators' : [1,100],\n",
    "    'max_depth' : np.arange(1,20,2)\n",
    "})\n",
    "best_score_rf = search_best_params(x_train, y_train, x_val, y_val, RandomForestClassifier, rf_param)\n",
    "best_score_rf"
   ]
  },
  {
   "cell_type": "code",
   "execution_count": 142,
   "id": "98e71c5a-8f3b-4cf8-8d24-338e67d2fdb2",
   "metadata": {
    "execution": {
     "iopub.execute_input": "2024-04-15T20:04:33.006440Z",
     "iopub.status.busy": "2024-04-15T20:04:33.006440Z",
     "iopub.status.idle": "2024-04-15T20:04:33.021444Z",
     "shell.execute_reply": "2024-04-15T20:04:33.020443Z",
     "shell.execute_reply.started": "2024-04-15T20:04:33.006440Z"
    }
   },
   "outputs": [
    {
     "name": "stdout",
     "output_type": "stream",
     "text": [
      "Melhor acurácia é: 0.9508027928826539 com melhor max_depth = 19 e melhor estimador = 100\n"
     ]
    }
   ],
   "source": [
    "best_accuracy_rf = best_score_rf[0]\n",
    "best_depth_rf = list(best_score_rf[1].values())[0]\n",
    "best_estimators_rf = list(best_score_rf[1].values())[1]\n",
    "print('Melhor acurácia é: {} com melhor max_depth = {} e melhor estimador = {}'.format(best_accuracy_rf, best_depth_rf, best_estimators_rf))"
   ]
  },
  {
   "cell_type": "code",
   "execution_count": 143,
   "id": "16e94517-f68c-4982-b73f-b97393fc2847",
   "metadata": {
    "execution": {
     "iopub.execute_input": "2024-04-15T20:04:33.025445Z",
     "iopub.status.busy": "2024-04-15T20:04:33.024445Z",
     "iopub.status.idle": "2024-04-15T20:04:40.776972Z",
     "shell.execute_reply": "2024-04-15T20:04:40.775620Z",
     "shell.execute_reply.started": "2024-04-15T20:04:33.025445Z"
    }
   },
   "outputs": [
    {
     "data": {
      "text/html": [
       "<div>\n",
       "<style scoped>\n",
       "    .dataframe tbody tr th:only-of-type {\n",
       "        vertical-align: middle;\n",
       "    }\n",
       "\n",
       "    .dataframe tbody tr th {\n",
       "        vertical-align: top;\n",
       "    }\n",
       "\n",
       "    .dataframe thead th {\n",
       "        text-align: right;\n",
       "    }\n",
       "</style>\n",
       "<table border=\"1\" class=\"dataframe\">\n",
       "  <thead>\n",
       "    <tr style=\"text-align: right;\">\n",
       "      <th></th>\n",
       "      <th>accuracy</th>\n",
       "      <th>precision</th>\n",
       "      <th>recall</th>\n",
       "      <th>f1</th>\n",
       "      <th>model_name</th>\n",
       "    </tr>\n",
       "  </thead>\n",
       "  <tbody>\n",
       "    <tr>\n",
       "      <th>train</th>\n",
       "      <td>0.973702</td>\n",
       "      <td>0.980469</td>\n",
       "      <td>0.958413</td>\n",
       "      <td>0.969316</td>\n",
       "      <td>Random Forest</td>\n",
       "    </tr>\n",
       "    <tr>\n",
       "      <th>validation</th>\n",
       "      <td>0.957656</td>\n",
       "      <td>0.960446</td>\n",
       "      <td>0.941050</td>\n",
       "      <td>0.950649</td>\n",
       "      <td>Random Forest</td>\n",
       "    </tr>\n",
       "    <tr>\n",
       "      <th>test</th>\n",
       "      <td>0.958599</td>\n",
       "      <td>0.961611</td>\n",
       "      <td>0.943335</td>\n",
       "      <td>0.952385</td>\n",
       "      <td>Random Forest</td>\n",
       "    </tr>\n",
       "  </tbody>\n",
       "</table>\n",
       "</div>"
      ],
      "text/plain": [
       "            accuracy  precision    recall        f1     model_name\n",
       "train       0.973702   0.980469  0.958413  0.969316  Random Forest\n",
       "validation  0.957656   0.960446  0.941050  0.950649  Random Forest\n",
       "test        0.958599   0.961611  0.943335  0.952385  Random Forest"
      ]
     },
     "execution_count": 143,
     "metadata": {},
     "output_type": "execute_result"
    }
   ],
   "source": [
    "best_params_rf = {'max_depth' : best_depth_rf,\n",
    "                  'n_estimators' : best_estimators_rf}\n",
    "rf_scores = modeling(x_train, y_train, x_val, y_val, x_test, y_test, RandomForestClassifier, best_params_rf)\n",
    "rf_scores['model_name'] = 'Random Forest'\n",
    "rf_scores"
   ]
  },
  {
   "cell_type": "markdown",
   "id": "0e09856c-f0f7-473b-add9-7aa31c50ca22",
   "metadata": {},
   "source": [
    "## 2.4. Logistic Regression"
   ]
  },
  {
   "cell_type": "code",
   "execution_count": 144,
   "id": "887698d7",
   "metadata": {
    "execution": {
     "iopub.execute_input": "2024-04-15T20:04:40.777972Z",
     "iopub.status.busy": "2024-04-15T20:04:40.777972Z",
     "iopub.status.idle": "2024-04-15T20:04:58.094715Z",
     "shell.execute_reply": "2024-04-15T20:04:58.094494Z",
     "shell.execute_reply.started": "2024-04-15T20:04:40.777972Z"
    }
   },
   "outputs": [
    {
     "data": {
      "text/plain": [
       "(0.8741594002381029, {'C': 1, 'max_iter': 100, 'solver': 'lbfgs'})"
      ]
     },
     "execution_count": 144,
     "metadata": {},
     "output_type": "execute_result"
    }
   ],
   "source": [
    "lr_param = ParameterGrid({\n",
    "    'C' : [0.01, 0.1, 1, 10, 100],\n",
    "    'solver' : ['lbfgs', 'newton-cg', 'liblinear'],\n",
    "    'max_iter' : [100, 200, 300]\n",
    "})\n",
    "best_score_lr = search_best_k(x_train, y_train, x_val, y_val, LogisticRegression, lr_param)\n",
    "best_score_lr"
   ]
  },
  {
   "cell_type": "code",
   "execution_count": 145,
   "id": "b31d619c-9088-4ac0-853d-e3a1c4f5ccb6",
   "metadata": {
    "execution": {
     "iopub.execute_input": "2024-04-15T20:04:58.096496Z",
     "iopub.status.busy": "2024-04-15T20:04:58.095496Z",
     "iopub.status.idle": "2024-04-15T20:04:58.111499Z",
     "shell.execute_reply": "2024-04-15T20:04:58.110499Z",
     "shell.execute_reply.started": "2024-04-15T20:04:58.096496Z"
    }
   },
   "outputs": [
    {
     "name": "stdout",
     "output_type": "stream",
     "text": [
      "Melhor acurácia é: 0.8741594002381029 com C = 0.8741594002381029, max_iter = 100 e solver = lbfgs\n"
     ]
    }
   ],
   "source": [
    "best_accuracy_lr = best_score_lr[0]\n",
    "best_C_lr = list(best_score_lr[1].values())[0]\n",
    "best_max_iter_lr = list(best_score_lr[1].values())[1]\n",
    "best_solver_lr = list(best_score_lr[1].values())[2]\n",
    "print('Melhor acurácia é: {} com C = {}, max_iter = {} e solver = {}'.format(best_accuracy_lr, best_accuracy_lr, best_max_iter_lr, best_solver_lr))"
   ]
  },
  {
   "cell_type": "code",
   "execution_count": 146,
   "id": "51c96e1f-ad78-4a4b-ba50-3494e4f1e554",
   "metadata": {
    "execution": {
     "iopub.execute_input": "2024-04-15T20:04:58.113499Z",
     "iopub.status.busy": "2024-04-15T20:04:58.112499Z",
     "iopub.status.idle": "2024-04-15T20:04:58.461521Z",
     "shell.execute_reply": "2024-04-15T20:04:58.460519Z",
     "shell.execute_reply.started": "2024-04-15T20:04:58.113499Z"
    }
   },
   "outputs": [
    {
     "data": {
      "text/html": [
       "<div>\n",
       "<style scoped>\n",
       "    .dataframe tbody tr th:only-of-type {\n",
       "        vertical-align: middle;\n",
       "    }\n",
       "\n",
       "    .dataframe tbody tr th {\n",
       "        vertical-align: top;\n",
       "    }\n",
       "\n",
       "    .dataframe thead th {\n",
       "        text-align: right;\n",
       "    }\n",
       "</style>\n",
       "<table border=\"1\" class=\"dataframe\">\n",
       "  <thead>\n",
       "    <tr style=\"text-align: right;\">\n",
       "      <th></th>\n",
       "      <th>accuracy</th>\n",
       "      <th>precision</th>\n",
       "      <th>recall</th>\n",
       "      <th>f1</th>\n",
       "      <th>model_name</th>\n",
       "    </tr>\n",
       "  </thead>\n",
       "  <tbody>\n",
       "    <tr>\n",
       "      <th>train</th>\n",
       "      <td>0.875267</td>\n",
       "      <td>0.870714</td>\n",
       "      <td>0.836388</td>\n",
       "      <td>0.853206</td>\n",
       "      <td>Logistic Regression</td>\n",
       "    </tr>\n",
       "    <tr>\n",
       "      <th>validation</th>\n",
       "      <td>0.874159</td>\n",
       "      <td>0.869206</td>\n",
       "      <td>0.835326</td>\n",
       "      <td>0.851929</td>\n",
       "      <td>Logistic Regression</td>\n",
       "    </tr>\n",
       "    <tr>\n",
       "      <th>test</th>\n",
       "      <td>0.871471</td>\n",
       "      <td>0.868568</td>\n",
       "      <td>0.833260</td>\n",
       "      <td>0.850548</td>\n",
       "      <td>Logistic Regression</td>\n",
       "    </tr>\n",
       "  </tbody>\n",
       "</table>\n",
       "</div>"
      ],
      "text/plain": [
       "            accuracy  precision    recall        f1           model_name\n",
       "train       0.875267   0.870714  0.836388  0.853206  Logistic Regression\n",
       "validation  0.874159   0.869206  0.835326  0.851929  Logistic Regression\n",
       "test        0.871471   0.868568  0.833260  0.850548  Logistic Regression"
      ]
     },
     "execution_count": 146,
     "metadata": {},
     "output_type": "execute_result"
    }
   ],
   "source": [
    "best_params_rf = {'C' : best_C_lr,\n",
    "                  'max_iter' : best_max_iter_lr,\n",
    "                  'solver' : best_solver_lr}\n",
    "lr_scores = modeling(x_train, y_train, x_val, y_val, x_test, y_test, LogisticRegression, best_params_rf)\n",
    "lr_scores['model_name'] = 'Logistic Regression'\n",
    "lr_scores"
   ]
  },
  {
   "cell_type": "markdown",
   "id": "45a97c15-a327-4712-9564-00abef386609",
   "metadata": {},
   "source": [
    "# 3.0. Comparando os modelos"
   ]
  },
  {
   "cell_type": "code",
   "execution_count": 147,
   "id": "367301a3-4a68-42b4-b065-0ee70b17a7f7",
   "metadata": {
    "execution": {
     "iopub.execute_input": "2024-04-15T20:04:58.462521Z",
     "iopub.status.busy": "2024-04-15T20:04:58.462521Z",
     "iopub.status.idle": "2024-04-15T20:04:58.476588Z",
     "shell.execute_reply": "2024-04-15T20:04:58.475585Z",
     "shell.execute_reply.started": "2024-04-15T20:04:58.462521Z"
    }
   },
   "outputs": [],
   "source": [
    "scores = pd.concat([knn_scores, dt_scores, rf_scores, lr_scores])"
   ]
  },
  {
   "cell_type": "markdown",
   "id": "20c26635-496e-490c-abc2-8e5dffad5c97",
   "metadata": {},
   "source": [
    "## 3.1. Treinamento"
   ]
  },
  {
   "cell_type": "code",
   "execution_count": 155,
   "id": "a1ddef44-1ebc-41d2-8276-bb5e44fa914d",
   "metadata": {
    "execution": {
     "iopub.execute_input": "2024-04-15T20:38:13.255819Z",
     "iopub.status.busy": "2024-04-15T20:38:13.255819Z",
     "iopub.status.idle": "2024-04-15T20:38:13.268821Z",
     "shell.execute_reply": "2024-04-15T20:38:13.268821Z",
     "shell.execute_reply.started": "2024-04-15T20:38:13.255819Z"
    }
   },
   "outputs": [
    {
     "data": {
      "text/html": [
       "<div>\n",
       "<style scoped>\n",
       "    .dataframe tbody tr th:only-of-type {\n",
       "        vertical-align: middle;\n",
       "    }\n",
       "\n",
       "    .dataframe tbody tr th {\n",
       "        vertical-align: top;\n",
       "    }\n",
       "\n",
       "    .dataframe thead th {\n",
       "        text-align: right;\n",
       "    }\n",
       "</style>\n",
       "<table border=\"1\" class=\"dataframe\">\n",
       "  <thead>\n",
       "    <tr style=\"text-align: right;\">\n",
       "      <th></th>\n",
       "      <th>accuracy</th>\n",
       "      <th>precision</th>\n",
       "      <th>recall</th>\n",
       "      <th>f1</th>\n",
       "      <th>model_name</th>\n",
       "    </tr>\n",
       "  </thead>\n",
       "  <tbody>\n",
       "    <tr>\n",
       "      <th>train</th>\n",
       "      <td>0.934055</td>\n",
       "      <td>0.964572</td>\n",
       "      <td>0.880171</td>\n",
       "      <td>0.920441</td>\n",
       "      <td>KNN</td>\n",
       "    </tr>\n",
       "    <tr>\n",
       "      <th>train</th>\n",
       "      <td>0.973716</td>\n",
       "      <td>0.981976</td>\n",
       "      <td>0.956917</td>\n",
       "      <td>0.969285</td>\n",
       "      <td>Decision Tree</td>\n",
       "    </tr>\n",
       "    <tr>\n",
       "      <th>train</th>\n",
       "      <td>0.973702</td>\n",
       "      <td>0.980469</td>\n",
       "      <td>0.958413</td>\n",
       "      <td>0.969316</td>\n",
       "      <td>Random Forest</td>\n",
       "    </tr>\n",
       "    <tr>\n",
       "      <th>train</th>\n",
       "      <td>0.875267</td>\n",
       "      <td>0.870714</td>\n",
       "      <td>0.836388</td>\n",
       "      <td>0.853206</td>\n",
       "      <td>Logistic Regression</td>\n",
       "    </tr>\n",
       "  </tbody>\n",
       "</table>\n",
       "</div>"
      ],
      "text/plain": [
       "       accuracy  precision    recall        f1           model_name\n",
       "train  0.934055   0.964572  0.880171  0.920441                  KNN\n",
       "train  0.973716   0.981976  0.956917  0.969285        Decision Tree\n",
       "train  0.973702   0.980469  0.958413  0.969316        Random Forest\n",
       "train  0.875267   0.870714  0.836388  0.853206  Logistic Regression"
      ]
     },
     "execution_count": 155,
     "metadata": {},
     "output_type": "execute_result"
    }
   ],
   "source": [
    "scores.loc['train']"
   ]
  },
  {
   "cell_type": "markdown",
   "id": "d88e0e3f-dc55-4452-b31a-09f5ee019d0f",
   "metadata": {},
   "source": [
    "## 3.2. Validação"
   ]
  },
  {
   "cell_type": "code",
   "execution_count": 150,
   "id": "392256cd-707d-431f-af48-169c1cf425b6",
   "metadata": {
    "execution": {
     "iopub.execute_input": "2024-04-15T20:11:36.643989Z",
     "iopub.status.busy": "2024-04-15T20:11:36.643989Z",
     "iopub.status.idle": "2024-04-15T20:11:36.666994Z",
     "shell.execute_reply": "2024-04-15T20:11:36.665995Z",
     "shell.execute_reply.started": "2024-04-15T20:11:36.643989Z"
    }
   },
   "outputs": [
    {
     "data": {
      "text/html": [
       "<div>\n",
       "<style scoped>\n",
       "    .dataframe tbody tr th:only-of-type {\n",
       "        vertical-align: middle;\n",
       "    }\n",
       "\n",
       "    .dataframe tbody tr th {\n",
       "        vertical-align: top;\n",
       "    }\n",
       "\n",
       "    .dataframe thead th {\n",
       "        text-align: right;\n",
       "    }\n",
       "</style>\n",
       "<table border=\"1\" class=\"dataframe\">\n",
       "  <thead>\n",
       "    <tr style=\"text-align: right;\">\n",
       "      <th></th>\n",
       "      <th>accuracy</th>\n",
       "      <th>precision</th>\n",
       "      <th>recall</th>\n",
       "      <th>f1</th>\n",
       "      <th>model_name</th>\n",
       "    </tr>\n",
       "  </thead>\n",
       "  <tbody>\n",
       "    <tr>\n",
       "      <th>validation</th>\n",
       "      <td>0.926510</td>\n",
       "      <td>0.957389</td>\n",
       "      <td>0.869107</td>\n",
       "      <td>0.911115</td>\n",
       "      <td>KNN</td>\n",
       "    </tr>\n",
       "    <tr>\n",
       "      <th>validation</th>\n",
       "      <td>0.950545</td>\n",
       "      <td>0.953688</td>\n",
       "      <td>0.931101</td>\n",
       "      <td>0.942259</td>\n",
       "      <td>Decision Tree</td>\n",
       "    </tr>\n",
       "    <tr>\n",
       "      <th>validation</th>\n",
       "      <td>0.957656</td>\n",
       "      <td>0.960446</td>\n",
       "      <td>0.941050</td>\n",
       "      <td>0.950649</td>\n",
       "      <td>Random Forest</td>\n",
       "    </tr>\n",
       "    <tr>\n",
       "      <th>validation</th>\n",
       "      <td>0.874159</td>\n",
       "      <td>0.869206</td>\n",
       "      <td>0.835326</td>\n",
       "      <td>0.851929</td>\n",
       "      <td>Logistic Regression</td>\n",
       "    </tr>\n",
       "  </tbody>\n",
       "</table>\n",
       "</div>"
      ],
      "text/plain": [
       "            accuracy  precision    recall        f1           model_name\n",
       "validation  0.926510   0.957389  0.869107  0.911115                  KNN\n",
       "validation  0.950545   0.953688  0.931101  0.942259        Decision Tree\n",
       "validation  0.957656   0.960446  0.941050  0.950649        Random Forest\n",
       "validation  0.874159   0.869206  0.835326  0.851929  Logistic Regression"
      ]
     },
     "execution_count": 150,
     "metadata": {},
     "output_type": "execute_result"
    }
   ],
   "source": [
    "scores.loc['validation']"
   ]
  },
  {
   "cell_type": "markdown",
   "id": "376d490c-03cd-477a-a95c-bc5a15165c6d",
   "metadata": {},
   "source": [
    "## 3.3. Teste"
   ]
  },
  {
   "cell_type": "code",
   "execution_count": 151,
   "id": "62ead931-285a-48ac-a2a0-b5f8d073dedd",
   "metadata": {
    "execution": {
     "iopub.execute_input": "2024-04-15T20:11:38.789786Z",
     "iopub.status.busy": "2024-04-15T20:11:38.788785Z",
     "iopub.status.idle": "2024-04-15T20:11:38.807790Z",
     "shell.execute_reply": "2024-04-15T20:11:38.806790Z",
     "shell.execute_reply.started": "2024-04-15T20:11:38.789786Z"
    }
   },
   "outputs": [
    {
     "data": {
      "text/html": [
       "<div>\n",
       "<style scoped>\n",
       "    .dataframe tbody tr th:only-of-type {\n",
       "        vertical-align: middle;\n",
       "    }\n",
       "\n",
       "    .dataframe tbody tr th {\n",
       "        vertical-align: top;\n",
       "    }\n",
       "\n",
       "    .dataframe thead th {\n",
       "        text-align: right;\n",
       "    }\n",
       "</style>\n",
       "<table border=\"1\" class=\"dataframe\">\n",
       "  <thead>\n",
       "    <tr style=\"text-align: right;\">\n",
       "      <th></th>\n",
       "      <th>accuracy</th>\n",
       "      <th>precision</th>\n",
       "      <th>recall</th>\n",
       "      <th>f1</th>\n",
       "      <th>model_name</th>\n",
       "    </tr>\n",
       "  </thead>\n",
       "  <tbody>\n",
       "    <tr>\n",
       "      <th>test</th>\n",
       "      <td>0.924999</td>\n",
       "      <td>0.955173</td>\n",
       "      <td>0.869952</td>\n",
       "      <td>0.910573</td>\n",
       "      <td>KNN</td>\n",
       "    </tr>\n",
       "    <tr>\n",
       "      <th>test</th>\n",
       "      <td>0.951609</td>\n",
       "      <td>0.955906</td>\n",
       "      <td>0.932776</td>\n",
       "      <td>0.944200</td>\n",
       "      <td>Decision Tree</td>\n",
       "    </tr>\n",
       "    <tr>\n",
       "      <th>test</th>\n",
       "      <td>0.958599</td>\n",
       "      <td>0.961611</td>\n",
       "      <td>0.943335</td>\n",
       "      <td>0.952385</td>\n",
       "      <td>Random Forest</td>\n",
       "    </tr>\n",
       "    <tr>\n",
       "      <th>test</th>\n",
       "      <td>0.871471</td>\n",
       "      <td>0.868568</td>\n",
       "      <td>0.833260</td>\n",
       "      <td>0.850548</td>\n",
       "      <td>Logistic Regression</td>\n",
       "    </tr>\n",
       "  </tbody>\n",
       "</table>\n",
       "</div>"
      ],
      "text/plain": [
       "      accuracy  precision    recall        f1           model_name\n",
       "test  0.924999   0.955173  0.869952  0.910573                  KNN\n",
       "test  0.951609   0.955906  0.932776  0.944200        Decision Tree\n",
       "test  0.958599   0.961611  0.943335  0.952385        Random Forest\n",
       "test  0.871471   0.868568  0.833260  0.850548  Logistic Regression"
      ]
     },
     "execution_count": 151,
     "metadata": {},
     "output_type": "execute_result"
    }
   ],
   "source": [
    "scores.loc['test']"
   ]
  }
 ],
 "metadata": {
  "kernelspec": {
   "display_name": "Python 3 (ipykernel)",
   "language": "python",
   "name": "python3"
  },
  "language_info": {
   "codemirror_mode": {
    "name": "ipython",
    "version": 3
   },
   "file_extension": ".py",
   "mimetype": "text/x-python",
   "name": "python",
   "nbconvert_exporter": "python",
   "pygments_lexer": "ipython3",
   "version": "3.10.14"
  }
 },
 "nbformat": 4,
 "nbformat_minor": 5
}
